{
 "cells": [
  {
   "cell_type": "markdown",
   "metadata": {
    "id": "OwidIOouC3-N"
   },
   "source": [
    "# Python\n",
    "\n",
    "Python is an interpreted high-level object-oriented programming language that was created by Guido van Rossum in 1991. It is also called general-purpose programming language as it is used in almost every domain we can think of as mentioned below:\n",
    "\n",
    "- Web Development\n",
    "- Software Development\n",
    "- Game Development\n",
    "- AI & ML\n",
    "- Data Analytics\n",
    "\n",
    "Python is dynamically-typed and garbage-collected."
   ]
  },
  {
   "cell_type": "markdown",
   "metadata": {
    "id": "lj-4ApU0C3-R"
   },
   "source": [
    "# Real-World Examples of python:\n",
    "\n",
    "- **NASA** (National Aeronautics and Space Agency) : One of Nasa’s Shuttle Support Contractors, United Space Alliance developed a Workflow Automation System (WAS) which is fast. Internal Resources Within critical project stated that:\n",
    "“Python allows us to tackle the complexity of programs like the WAS without getting bogged down in the language”. Nasa also published a website (https://code.nasaL.gov/) where there are 400 open source projects which use python.\n",
    "\n",
    "\n",
    "- **Netflix** : There are various projects in Netflix which use python\n",
    "\n",
    "\n",
    "- **Instagram**: Instagram also uses python extensively. They have built a photo-sharing social platform using Django which is a web framework for python. Also, they are able to successfully upgrade their framework without any technical challenges.\n",
    "\n",
    "   etc etc"
   ]
  },
  {
   "cell_type": "markdown",
   "metadata": {
    "id": "DImXz3xPC3-S"
   },
   "source": [
    "Lets start.."
   ]
  },
  {
   "cell_type": "markdown",
   "metadata": {
    "id": "iG8EMmXdC3-T"
   },
   "source": [
    "# Hello World"
   ]
  },
  {
   "cell_type": "code",
   "execution_count": null,
   "metadata": {
    "id": "hXQ9iuKYC3-V",
    "outputId": "a58cdbba-a415-4520-ee45-8f8eb87017dc"
   },
   "outputs": [
    {
     "name": "stdout",
     "output_type": "stream",
     "text": [
      "Hello New world\n",
      "salman@gmail.com\n",
      "Mughal\n",
      "67\n",
      "My brother\"s name is M. Aslam\n"
     ]
    }
   ],
   "source": [
    "print(\"Hello New world\")\n",
    "\n",
    "name = \"Mughal\"\n",
    "name = 'Mughal'\n",
    "age = 45\n",
    "email = \"salman@gmail.com\"\n",
    "print(email)\n",
    "print(name)\n",
    "name = 67\n",
    "print(name)\n",
    "\n",
    "name1 = \"My brother\\\"s name is M. Aslam\"\n",
    "print(name1)\n",
    "\n",
    "\n"
   ]
  },
  {
   "cell_type": "code",
   "execution_count": null,
   "metadata": {
    "id": "8rEurgqJC3-Z",
    "outputId": "cce684d5-50ba-4bde-c4e8-73e23297fb22"
   },
   "outputs": [
    {
     "name": "stdout",
     "output_type": "stream",
     "text": [
      "qasim\n",
      "Qasim\n",
      "Qasim\n",
      "QASIM\n",
      "qasim\n",
      "qasim\n",
      "MALE\n"
     ]
    }
   ],
   "source": [
    "name = \"qasim\"\n",
    "name1 = name.title()\n",
    "print(name)\n",
    "print(name1)\n",
    "print(name.title())\n",
    "print(name.upper())\n",
    "print(name.lower())\n",
    "print(name)\n",
    "\n",
    "gender = 'male'\n",
    "print(gender.upper())"
   ]
  },
  {
   "cell_type": "code",
   "execution_count": null,
   "metadata": {
    "id": "-igdrGbBC3-b",
    "outputId": "06bcdefb-4da6-4c00-fc26-cc5a9e33dd1f"
   },
   "outputs": [
    {
     "name": "stdout",
     "output_type": "stream",
     "text": [
      "Qasim\n",
      "M. Aslam\n",
      "Qasim M. Aslam\n",
      "Qasim M. Aslam\n",
      "Qasim M. Aslam 45\n",
      "sohail afzal 45\n"
     ]
    }
   ],
   "source": [
    "firstName = \"Qasim\"\n",
    "lastName = \"M. Aslam\"\n",
    "age = 45\n",
    "\n",
    "fullName = firstName +\" \"+ lastName\n",
    "print(firstName)\n",
    "print(lastName)\n",
    "print(fullName)\n",
    "print(firstName,lastName)\n",
    "\n",
    "fullName1 = firstName + \" \" + lastName +\" \" +str(age)\n",
    "print(fullName1)\n",
    "\n",
    "first_name = \"sohail\"\n",
    "last_name = \"afzal\"\n",
    "print(first_name,last_name,age)\n",
    "\n"
   ]
  },
  {
   "cell_type": "code",
   "execution_count": null,
   "metadata": {
    "id": "Nv4JLLksC3-c",
    "outputId": "8858d308-57a1-4828-f535-584eec7847c9"
   },
   "outputs": [
    {
     "name": "stdout",
     "output_type": "stream",
     "text": [
      "Languages:\n",
      "\tPython\n",
      "\tC\n",
      "\tJavaScript\n",
      "---------------------\n",
      "---Hello World---\n",
      "---Hello World\n",
      "Hello World---\n",
      "Hello World\n",
      "---Hello World---\n"
     ]
    }
   ],
   "source": [
    "languages = \"Languages:\\n\\tPython\\n\\tC\\n\\tJavaScript\"\n",
    "print(languages)\n",
    "\n",
    "print(\"---------------------\")\n",
    "name = \"---Hello World---\"\n",
    "\n",
    "print(name)\n",
    "print(name.rstrip('-'))\n",
    "print(name.lstrip('-'))\n",
    "print(name.strip('-'))\n",
    "print(name)"
   ]
  },
  {
   "cell_type": "code",
   "execution_count": null,
   "metadata": {
    "id": "I_GS1GV2C3-d",
    "outputId": "47642dbd-962d-46ea-f31d-92e11d7c0084"
   },
   "outputs": [
    {
     "name": "stdout",
     "output_type": "stream",
     "text": [
      "Hello World\n"
     ]
    }
   ],
   "source": [
    "name = \" hello world  \"\n",
    "name = name.strip()\n",
    "name = name.title()\n",
    "\n",
    "name1 = name.strip()\n",
    "name2 = name1.title()\n",
    "print(name2)\n",
    "\n"
   ]
  },
  {
   "cell_type": "code",
   "execution_count": null,
   "metadata": {
    "id": "NEzKXU2vC3-d",
    "outputId": "0919f280-00a4-4e4f-d227-f9ca94dd247a"
   },
   "outputs": [
    {
     "name": "stdout",
     "output_type": "stream",
     "text": [
      "Hello World\n"
     ]
    }
   ],
   "source": [
    "name = \" hello world  \"\n",
    "print(name.strip().title())"
   ]
  },
  {
   "cell_type": "code",
   "execution_count": null,
   "metadata": {
    "id": "LluwAmyrC3-e",
    "outputId": "2445689b-b764-4756-ef21-b604a0b3ebe6"
   },
   "outputs": [
    {
     "name": "stdout",
     "output_type": "stream",
     "text": [
      "84\n",
      "78\n",
      "27.0\n",
      "243\n",
      "0\n",
      "531441\n",
      "27\n",
      "0.0\n"
     ]
    }
   ],
   "source": [
    "num1 = 81\n",
    "num2 = 3\n",
    "\n",
    "print(num1 + num2)\n",
    "print(num1 - num2)\n",
    "print(num1 / num2)\n",
    "print(num1 * num2)\n",
    "print(num1 % num2)\n",
    "print(num1 ** num2)\n",
    "print(num1 // num2)\n",
    "\n",
    "\n",
    "num3 = 5 - 3 * 2 + 2 / 2\n",
    "print(num3)"
   ]
  },
  {
   "cell_type": "code",
   "execution_count": null,
   "metadata": {
    "id": "2wuhquxtC3-e",
    "outputId": "ec0bd794-c6c9-41f3-d272-fddbc791a276"
   },
   "outputs": [
    {
     "name": "stdout",
     "output_type": "stream",
     "text": [
      "0.30000000000000004\n",
      "-0.1\n",
      "0.020000000000000004\n"
     ]
    }
   ],
   "source": [
    "num1 = 0.1\n",
    "num2 = 0.2\n",
    "print(num1 + num2)\n",
    "print(num1 - num2)\n",
    "print(num1 * num2)\n",
    "num3 = 5\n",
    "#print(num3)\n"
   ]
  },
  {
   "cell_type": "markdown",
   "metadata": {
    "id": "3dXDn346C3-e"
   },
   "source": [
    "# LIST"
   ]
  },
  {
   "cell_type": "code",
   "execution_count": null,
   "metadata": {
    "id": "lptINps2C3-f",
    "outputId": "aa0255d7-aa76-4eca-b6c3-475c9fbb633d"
   },
   "outputs": [
    {
     "name": "stdout",
     "output_type": "stream",
     "text": [
      "['trek', 'cannondale', 'redline', 'specialized']\n",
      "TREK\n",
      "REDLINE\n",
      "['trek', 'cannondale', 'redline', 'specialized']\n",
      "cannondale\n"
     ]
    }
   ],
   "source": [
    "bicycles = ['trek', 'cannondale',\n",
    "            'redline', 'specialized']\n",
    "print(bicycles)\n",
    "print(bicycles[0].upper())\n",
    "singleBicycle = bicycles[2]\n",
    "print(singleBicycle.upper())\n",
    "print(bicycles)\n",
    "print(bicycles[-3])"
   ]
  },
  {
   "cell_type": "code",
   "execution_count": null,
   "metadata": {
    "id": "i5o594eKC3-f",
    "outputId": "9229b49f-f41e-46ba-ca37-5129f295a5c9"
   },
   "outputs": [
    {
     "name": "stdout",
     "output_type": "stream",
     "text": [
      "['honda', 'yamaha', 'suzuki']\n",
      "Now changing first entry\n",
      "['ducati', 'yamaha', 'suzuki']\n",
      "Now appending at last position\n",
      "['ducati', 'yamaha', 'suzuki', 'roadprince']\n",
      "Now inserting at position 1\n",
      "['ducati', 'hero', 'yamaha', 'suzuki', 'roadprince']\n",
      "Now inserting at position 5\n",
      "['ducati', 'hero', 'yamaha', 'suzuki', 'roadprince', 'Hello World']\n",
      "Now deleting entry at index 1\n",
      "['ducati', 'yamaha', 'suzuki', 'roadprince', 'Hello World']\n"
     ]
    }
   ],
   "source": [
    "motorcycles = ['honda', 'yamaha', 'suzuki']\n",
    "print(motorcycles)\n",
    "\n",
    "\n",
    "print(\"Now changing first entry\")\n",
    "motorcycles[0] = 'ducati'\n",
    "print(motorcycles)\n",
    "\n",
    "print(\"Now appending at last position\")\n",
    "motorcycles.append('roadprince')\n",
    "print(motorcycles)\n",
    "\n",
    "print(\"Now inserting at position 1\")\n",
    "motorcycles.insert(1,\"hero\")\n",
    "print(motorcycles)\n",
    "\n",
    "print(\"Now inserting at position 5\")\n",
    "#motorcycles[5] = \"Hello world\"\n",
    "motorcycles.insert(5,\"Hello World\")\n",
    "print(motorcycles)\n",
    "\n",
    "print(\"Now deleting entry at index 1\")\n",
    "del motorcycles[1];\n",
    "print(motorcycles)\n",
    "\n"
   ]
  },
  {
   "cell_type": "code",
   "execution_count": null,
   "metadata": {
    "id": "eMk6-IIrC3-f",
    "outputId": "6ebca7bd-3782-4a2f-b147-52832e14fc89"
   },
   "outputs": [
    {
     "name": "stdout",
     "output_type": "stream",
     "text": [
      "['honda', 'yamaha', 'suzuki']\n",
      "['honda', 'yamaha']\n",
      "suzuki\n",
      "['honda']\n",
      "yamaha\n",
      "['suzuki', 'yamaha']\n"
     ]
    }
   ],
   "source": [
    "motorcycles = ['honda', 'yamaha', 'suzuki']\n",
    "removedMotorCycles = []\n",
    "print(motorcycles)\n",
    "\n",
    "\n",
    "a1 = motorcycles.pop()   #it can assign value to a1 after popping\n",
    "removedMotorCycles.append(a1)\n",
    "\n",
    "print(motorcycles)\n",
    "\n",
    "print(a1)\n",
    "\n",
    "a2 = motorcycles.pop()\n",
    "removedMotorCycles.append(a2)\n",
    "print(motorcycles)\n",
    "print(a2)\n",
    "print(removedMotorCycles)"
   ]
  },
  {
   "cell_type": "code",
   "execution_count": null,
   "metadata": {
    "id": "kVTXgnNMC3-f",
    "outputId": "6cb535b3-ef01-4d16-b924-6165186b9661"
   },
   "outputs": [
    {
     "name": "stdout",
     "output_type": "stream",
     "text": [
      "['honda', 'yamaha', 'suzuki']\n",
      "['honda', 'yamaha']\n",
      "['suzuki']\n",
      "['honda']\n",
      "['suzuki', 'yamaha']\n"
     ]
    }
   ],
   "source": [
    "motorcycles = ['honda', 'yamaha', 'suzuki']\n",
    "removedMotorCycles = []\n",
    "print(motorcycles)\n",
    "\n",
    "removedMotorCycles.append(motorcycles.pop())\n",
    "\n",
    "print(motorcycles)\n",
    "print(removedMotorCycles)\n",
    "\n",
    "removedMotorCycles.append(motorcycles.pop())\n",
    "print(motorcycles)\n",
    "print(removedMotorCycles)\n"
   ]
  },
  {
   "cell_type": "code",
   "execution_count": null,
   "metadata": {
    "id": "-satpWBq7wIZ"
   },
   "outputs": [],
   "source": [
    "b = [1,2,3,True,1]"
   ]
  },
  {
   "cell_type": "code",
   "execution_count": null,
   "metadata": {
    "id": "5mQJPE2dC3-g",
    "outputId": "f17e54bf-5315-4f3e-d1b0-17129ad715c2"
   },
   "outputs": [
    {
     "name": "stdout",
     "output_type": "stream",
     "text": [
      "['honda', 'yamaha', 'suzuki']\n",
      "['honda', 'suzuki']\n",
      "None\n"
     ]
    }
   ],
   "source": [
    "motorcycles = ['honda', 'yamaha', 'suzuki']\n",
    "removedMotorCycles = []\n",
    "print(motorcycles)\n",
    "\n",
    "a1 = motorcycles.remove(\"yamaha\")     # \"remove\" cannot assign value to a1 but \"popping\" can\n",
    "print(motorcycles)\n",
    "print(a1)\n",
    "\n"
   ]
  },
  {
   "cell_type": "code",
   "execution_count": null,
   "metadata": {
    "id": "4LDWlETVC3-g",
    "outputId": "34006185-c021-403c-c2ca-5de2ea82f670"
   },
   "outputs": [
    {
     "name": "stdout",
     "output_type": "stream",
     "text": [
      "['bmw', 'audi', 'toyota', 'subaru']\n",
      "['audi', 'bmw', 'subaru', 'toyota']\n"
     ]
    }
   ],
   "source": [
    "cars = ['bmw', 'audi', 'toyota', 'subaru']\n",
    "print(cars)\n",
    "cars.sort()\n",
    "print(cars)"
   ]
  },
  {
   "cell_type": "code",
   "execution_count": 1,
   "metadata": {
    "colab": {
     "base_uri": "https://localhost:8080/"
    },
    "executionInfo": {
     "elapsed": 5,
     "status": "ok",
     "timestamp": 1693541455586,
     "user": {
      "displayName": "Omer Qureshi",
      "userId": "13882709747115437471"
     },
     "user_tz": -300
    },
    "id": "AvykOBMR74rv",
    "outputId": "b7125fac-56a3-416e-cdf1-4456dc8069ca"
   },
   "outputs": [
    {
     "name": "stdout",
     "output_type": "stream",
     "text": [
      "[1, True, 1, 2, 4]\n"
     ]
    }
   ],
   "source": [
    "a = [1,2,4,True,1]\n",
    "a.sort()\n",
    "print(a)"
   ]
  },
  {
   "cell_type": "code",
   "execution_count": null,
   "metadata": {
    "id": "5Lxwprl4C3-g",
    "outputId": "18355b9e-e643-4222-a11a-229f16a43e8b"
   },
   "outputs": [
    {
     "name": "stdout",
     "output_type": "stream",
     "text": [
      "['bmw', 'audi', 'toyota', 'subaru']\n",
      "['toyota', 'subaru', 'bmw', 'audi']\n"
     ]
    }
   ],
   "source": [
    "cars = ['bmw', 'audi', 'toyota', 'subaru']\n",
    "print(cars)\n",
    "cars.sort(reverse=True)\n",
    "print(cars)"
   ]
  },
  {
   "cell_type": "code",
   "execution_count": null,
   "metadata": {
    "id": "EzA7sx-ZC3-g",
    "outputId": "36137288-24ea-47e0-b8b6-153fdfb6f5bf"
   },
   "outputs": [
    {
     "name": "stdout",
     "output_type": "stream",
     "text": [
      "['bmw', 'audi', 'toyota', 'subaru']\n",
      "['audi', 'bmw', 'subaru', 'toyota']\n",
      "None\n"
     ]
    }
   ],
   "source": [
    "cars = ['bmw', 'audi', 'toyota', 'subaru']\n",
    "print(cars)\n",
    "#sortedList = sorted(cars)  #it can assign value\n",
    "sortedList = cars.sort()   #it cannot assign value\n",
    "print(cars)\n",
    "print(sortedList)\n"
   ]
  },
  {
   "cell_type": "code",
   "execution_count": null,
   "metadata": {
    "id": "_bi-ysuBC3-h",
    "outputId": "83b8c5c0-d01c-4068-952e-12a3789fe0ad"
   },
   "outputs": [
    {
     "name": "stdout",
     "output_type": "stream",
     "text": [
      "bmw audi\n",
      "['bmw', 'audi', 'toyota', 'subaru']\n",
      "['subaru', 'toyota', 'audi', 'bmw']\n"
     ]
    }
   ],
   "source": [
    "cars = ['bmw', 'audi', 'toyota', 'subaru']\n",
    "twoCars = cars[0] + \" \" +cars[1]\n",
    "print(twoCars)\n",
    "\n",
    "print(cars)\n",
    "cars.reverse()\n",
    "print(cars)"
   ]
  },
  {
   "cell_type": "code",
   "execution_count": null,
   "metadata": {
    "id": "5b4kQDwbC3-h",
    "outputId": "818bff26-288d-4d7d-c0df-e14ea9614bb6"
   },
   "outputs": [
    {
     "name": "stdout",
     "output_type": "stream",
     "text": [
      "['bmw', 'audi', 'toyota', 'subaru', 'abc']\n",
      "5\n",
      "abc\n"
     ]
    }
   ],
   "source": [
    "cars = ['bmw', 'audi', 'toyota', 'subaru',\"abc\"]\n",
    "print(cars)\n",
    "\n",
    "count = len(cars)\n",
    "print(count)\n",
    "print(cars[-1])\n",
    "\n",
    "#print(cars[-10])"
   ]
  },
  {
   "cell_type": "markdown",
   "metadata": {
    "id": "XdlYWcWqC3-h"
   },
   "source": [
    "# LIST WITH \"FOR LOOP\""
   ]
  },
  {
   "cell_type": "code",
   "execution_count": null,
   "metadata": {
    "id": "hEgqrRI-C3-h",
    "outputId": "b95084bd-b38c-4bc0-9da7-0e2e542029fc"
   },
   "outputs": [
    {
     "name": "stdout",
     "output_type": "stream",
     "text": [
      "Hello Mr.  alice\n",
      "alice\n",
      "Hello Mr.  david\n",
      "david\n",
      "Hello Mr.  carolina\n",
      "carolina\n",
      "Hello \n"
     ]
    }
   ],
   "source": [
    "magicians = ['alice', 'david', 'carolina']\n",
    "\n",
    "for magician in magicians:\n",
    "    print(\"Hello Mr. \",magician)\n",
    "    print(magician)\n",
    "print(\"Hello \")"
   ]
  },
  {
   "cell_type": "code",
   "execution_count": null,
   "metadata": {
    "id": "hFo9OG8MLOs4"
   },
   "outputs": [],
   "source": []
  },
  {
   "cell_type": "code",
   "execution_count": 2,
   "metadata": {
    "colab": {
     "base_uri": "https://localhost:8080/",
     "height": 194
    },
    "executionInfo": {
     "elapsed": 735,
     "status": "error",
     "timestamp": 1693545502529,
     "user": {
      "displayName": "Omer Qureshi",
      "userId": "13882709747115437471"
     },
     "user_tz": -300
    },
    "id": "6YA0hokWLRB3",
    "outputId": "560efd5f-89d3-40c8-bb52-0131443a4d55"
   },
   "outputs": [
    {
     "ename": "NameError",
     "evalue": "ignored",
     "output_type": "error",
     "traceback": [
      "\u001b[0;31m---------------------------------------------------------------------------\u001b[0m",
      "\u001b[0;31mNameError\u001b[0m                                 Traceback (most recent call last)",
      "\u001b[0;32m<ipython-input-2-d7e370b9ec90>\u001b[0m in \u001b[0;36m<cell line: 2>\u001b[0;34m()\u001b[0m\n\u001b[1;32m      1\u001b[0m \u001b[0;32mimport\u001b[0m \u001b[0marray\u001b[0m\u001b[0;34m\u001b[0m\u001b[0;34m\u001b[0m\u001b[0m\n\u001b[0;32m----> 2\u001b[0;31m \u001b[0ma\u001b[0m \u001b[0;34m=\u001b[0m \u001b[0marray\u001b[0m\u001b[0;34m.\u001b[0m\u001b[0marray\u001b[0m\u001b[0;34m(\u001b[0m\u001b[0;34m[\u001b[0m\u001b[0mi\u001b[0m\u001b[0;34m,\u001b[0m\u001b[0;36m2\u001b[0m\u001b[0;34m,\u001b[0m\u001b[0;36m3\u001b[0m\u001b[0;34m,\u001b[0m\u001b[0;36m4\u001b[0m\u001b[0;34m]\u001b[0m\u001b[0;34m)\u001b[0m\u001b[0;34m\u001b[0m\u001b[0;34m\u001b[0m\u001b[0m\n\u001b[0m",
      "\u001b[0;31mNameError\u001b[0m: name 'i' is not defined"
     ]
    }
   ],
   "source": [
    "cars.sort()"
   ]
  },
  {
   "cell_type": "code",
   "execution_count": 5,
   "metadata": {
    "colab": {
     "base_uri": "https://localhost:8080/"
    },
    "executionInfo": {
     "elapsed": 3189,
     "status": "ok",
     "timestamp": 1693547223310,
     "user": {
      "displayName": "Omer Qureshi",
      "userId": "13882709747115437471"
     },
     "user_tz": -300
    },
    "id": "oy2IDXbELRK4",
    "outputId": "38c73d37-60ff-4c2d-ee9f-8c24dda5d26c"
   },
   "outputs": [
    {
     "name": "stdout",
     "output_type": "stream",
     "text": [
      "entert a nmb4\n",
      "hello\n",
      "hello\n",
      "hello\n",
      "hello\n"
     ]
    }
   ],
   "source": [
    "a = int(input('entert a nmb'))\n",
    "for i in range(a):\n",
    "  print(\"hello\")"
   ]
  },
  {
   "cell_type": "code",
   "execution_count": 4,
   "metadata": {
    "executionInfo": {
     "elapsed": 2,
     "status": "ok",
     "timestamp": 1693545578516,
     "user": {
      "displayName": "Omer Qureshi",
      "userId": "13882709747115437471"
     },
     "user_tz": -300
    },
    "id": "k1e1pqf9LRS_"
   },
   "outputs": [],
   "source": []
  },
  {
   "cell_type": "code",
   "execution_count": null,
   "metadata": {
    "id": "BKZiYVnGC3-h",
    "outputId": "5eacd455-7d9c-4ac5-f401-22324fe55d4d"
   },
   "outputs": [
    {
     "name": "stdout",
     "output_type": "stream",
     "text": [
      "ali\n",
      "farhan\n"
     ]
    }
   ],
   "source": [
    "name = [\"ali\",\"farhan\"]\n",
    "\n",
    "for i in name:\n",
    "    print(i)"
   ]
  },
  {
   "cell_type": "code",
   "execution_count": null,
   "metadata": {
    "id": "LZtyZdnRC3-h",
    "outputId": "5fa41f15-45bf-47b0-da5c-0cf26ac60ef1"
   },
   "outputs": [
    {
     "name": "stdout",
     "output_type": "stream",
     "text": [
      "1\n",
      "2\n",
      "3\n",
      "4\n",
      "5\n",
      "6\n",
      "7\n",
      "8\n",
      "9\n",
      "10\n",
      "11\n",
      "12\n",
      "13\n",
      "14\n",
      "1\n",
      "3\n",
      "5\n",
      "7\n",
      "9\n",
      "---\n",
      "100\n",
      "95\n",
      "90\n",
      "85\n",
      "80\n",
      "75\n",
      "70\n",
      "65\n",
      "60\n",
      "55\n",
      "50\n",
      "45\n",
      "40\n",
      "35\n",
      "30\n",
      "25\n",
      "20\n",
      "15\n",
      "10\n",
      "5\n"
     ]
    }
   ],
   "source": [
    "for value in range(1,15):\n",
    "    print(value)\n",
    "\n",
    "for value in range(1,10,2):\n",
    "    print(value)\n",
    "print(\"---\")\n",
    "for value in range(100,0,-5):\n",
    "\n",
    "    print(value)\n"
   ]
  },
  {
   "cell_type": "code",
   "execution_count": null,
   "metadata": {
    "id": "2KbJRCScC3-i",
    "outputId": "9f733961-fb9b-4f35-f301-2628eaa9ed71"
   },
   "outputs": [
    {
     "name": "stdout",
     "output_type": "stream",
     "text": [
      "0\n",
      "Wajid\n",
      "1\n",
      "Ali\n",
      "2\n",
      "Qasim\n",
      "3\n",
      "Zeeshan\n"
     ]
    }
   ],
   "source": [
    "names = [\"Wajid\",\"Ali\",\"Qasim\",\"Zeeshan\"]\n",
    "for value in range(0,len(names)):\n",
    "    print(value)\n",
    "    print(names[value])"
   ]
  },
  {
   "cell_type": "code",
   "execution_count": null,
   "metadata": {
    "id": "GdEu8MioC3-i",
    "outputId": "acc68963-d7e8-45c2-c0bf-c2007cfe9e6a"
   },
   "outputs": [
    {
     "name": "stdout",
     "output_type": "stream",
     "text": [
      "3\n",
      "Zeeshan\n",
      "2\n",
      "Qasim\n",
      "1\n",
      "Ali\n",
      "0\n",
      "Wajid\n"
     ]
    }
   ],
   "source": [
    "names = [\"Wajid\",\"Ali\",\"Qasim\",\"Zeeshan\"]\n",
    "for value in range(len(names)-1,-1,-1):\n",
    "    print(value)\n",
    "    print(names[value])"
   ]
  },
  {
   "cell_type": "code",
   "execution_count": null,
   "metadata": {
    "id": "QaSQzUQ9C3-i",
    "outputId": "23463448-c451-4ca3-8424-eac71b3aeac6"
   },
   "outputs": [
    {
     "name": "stdout",
     "output_type": "stream",
     "text": [
      "Hello 1\n",
      "Hello 2\n",
      "Hello 3\n",
      "Hello 4\n",
      "Hello 5\n",
      "Hello 6\n",
      "Hello 7\n",
      "Hello 8\n",
      "Hello 9\n",
      "New 9\n",
      "New2 34\n"
     ]
    }
   ],
   "source": [
    "for value in range(1,10):\n",
    "    abc = 34\n",
    "    print(\"Hello\", value)\n",
    "\n",
    "print(\"New\", value)\n",
    "print(\"New2\", abc)"
   ]
  },
  {
   "cell_type": "code",
   "execution_count": null,
   "metadata": {
    "id": "JVPep-ucC3-i",
    "outputId": "30109cba-d19c-4b16-ff83-e67f21a865cc"
   },
   "outputs": [
    {
     "name": "stdout",
     "output_type": "stream",
     "text": [
      "range(1, 10)\n",
      "[1, 2, 3, 4]\n",
      "[1, 4, 7, 10, 13, 16, 19]\n",
      "[2, 4, 6, 8, 10]\n"
     ]
    }
   ],
   "source": [
    "\n",
    "mylist = range(1,10)\n",
    "print(mylist)\n",
    "mylist2 = list(range(1,5));\n",
    "print(mylist2)\n",
    "\n",
    "mylist3 = list(range(1,20,3));\n",
    "print(mylist3)\n",
    "\n",
    "print(list(range(2,11,2)))"
   ]
  },
  {
   "cell_type": "code",
   "execution_count": null,
   "metadata": {
    "id": "QPbchjmyC3-i",
    "outputId": "dc2e88b3-d7a3-49fa-9094-ecbfe039183c"
   },
   "outputs": [
    {
     "name": "stdout",
     "output_type": "stream",
     "text": [
      "[3, 6, 11, 18, 27, 38, 51, 66, 83, 102]\n"
     ]
    }
   ],
   "source": [
    "squares = []\n",
    "\n",
    "for value in range(1,11):\n",
    "    square = value**2\n",
    "    square = square+2\n",
    "    squares.append(square)\n",
    "\n",
    "\n",
    "print(squares)\n"
   ]
  },
  {
   "cell_type": "code",
   "execution_count": null,
   "metadata": {
    "id": "io_7piiBC3-j",
    "outputId": "2ff570fb-a09b-4471-dd42-78eb85655616"
   },
   "outputs": [
    {
     "name": "stdout",
     "output_type": "stream",
     "text": [
      "[1, 4, 9, 16, 25, 36, 49, 64, 81, 100]\n"
     ]
    }
   ],
   "source": [
    "squares = []\n",
    "\n",
    "for value in range(1,11):\n",
    "    squares.append(value**2)\n",
    "\n",
    "\n",
    "print(squares)\n"
   ]
  },
  {
   "cell_type": "code",
   "execution_count": null,
   "metadata": {
    "id": "82O6QDUCC3-j",
    "outputId": "af021ca3-3def-48a2-c539-1cedede4daf9"
   },
   "outputs": [
    {
     "name": "stdout",
     "output_type": "stream",
     "text": [
      "[1, 4, 9, 16, 25, 36, 49, 64, 81, 100]\n",
      "Min 1\n",
      "Max 100\n",
      "Sum 385\n",
      "Count 10\n",
      "Average 38.5\n"
     ]
    }
   ],
   "source": [
    "squares = []\n",
    "\n",
    "for value in range(1,11):\n",
    "    squares.append(value**2)\n",
    "\n",
    "\n",
    "print(squares)\n",
    "\n",
    "minVal = min(squares)\n",
    "maxVal = max(squares)\n",
    "sumVal = sum(squares)\n",
    "countVal = len(squares)\n",
    "\n",
    "print(\"Min\",minVal)\n",
    "print(\"Max\",maxVal)\n",
    "print(\"Sum\",sumVal)\n",
    "print(\"Count\",countVal)\n",
    "print(\"Average\",sumVal/countVal)\n",
    "\n",
    "\n"
   ]
  },
  {
   "cell_type": "code",
   "execution_count": null,
   "metadata": {
    "id": "Fevxof8aC3-j",
    "outputId": "a95dfdfa-86b1-4028-f953-a0b1306dc2ae"
   },
   "outputs": [
    {
     "name": "stdout",
     "output_type": "stream",
     "text": [
      "[1, 2, 3, 4, 5, 6, 7, 8, 9, 10]\n",
      "-----------------------------\n",
      "[1, 3, 5, 7, 9]\n",
      "-----------------------------\n",
      "[3, 6, 11, 18, 27, 38, 51, 66, 83, 102]\n"
     ]
    }
   ],
   "source": [
    "#writing queries in one line\n",
    "\n",
    "values = [val for val in range(1,11)]\n",
    "print(values)\n",
    "print(\"-----------------------------\")\n",
    "values2 = [val for val in range(1,11,2)]\n",
    "print(values2)\n",
    "print(\"-----------------------------\")\n",
    "squares = [value**2+2 for value in range(1,11)]\n",
    "print(squares)\n",
    "\n"
   ]
  },
  {
   "cell_type": "code",
   "execution_count": null,
   "metadata": {
    "id": "SMyUEU0JC3-j",
    "outputId": "ac7d6bf1-a359-4bfd-f45d-5e0826ce70b2"
   },
   "outputs": [
    {
     "name": "stdout",
     "output_type": "stream",
     "text": [
      "[1, 2, 3, 4, 5, 6, 7, 8, 9, 10]\n"
     ]
    }
   ],
   "source": [
    "print([val for val in range(1,11)])"
   ]
  },
  {
   "cell_type": "code",
   "execution_count": null,
   "metadata": {
    "id": "XQRKJVNBC3-j",
    "outputId": "a5553e55-c5e7-4131-b32f-2f727043f448"
   },
   "outputs": [
    {
     "name": "stdout",
     "output_type": "stream",
     "text": [
      "apple\n"
     ]
    }
   ],
   "source": [
    "# use of break statement\n",
    "#With the break statement we can stop the loop before it has looped through all the items:\n",
    "fruits = [\"apple\", \"banana\", \"cherry\"]\n",
    "for x in fruits:\n",
    "  if x == \"banana\":\n",
    "    break\n",
    "  print(x)"
   ]
  },
  {
   "cell_type": "code",
   "execution_count": null,
   "metadata": {
    "id": "bHwCm1GKC3-j",
    "outputId": "e52f383f-96e5-4eff-c6d4-caf955e670a2"
   },
   "outputs": [
    {
     "name": "stdout",
     "output_type": "stream",
     "text": [
      "apple\n",
      "cherry\n"
     ]
    }
   ],
   "source": [
    "# use of continue statement\n",
    "# With the continue statement we can stop the current iteration of the loop, and continue with the next:\n",
    "fruits = [\"apple\", \"banana\", \"cherry\"]\n",
    "for x in fruits:\n",
    "  if x == \"banana\":\n",
    "    continue\n",
    "  print(x)"
   ]
  },
  {
   "cell_type": "markdown",
   "metadata": {
    "id": "DUJRqxlFC3-k"
   },
   "source": [
    "# LIST WITH SLICING"
   ]
  },
  {
   "cell_type": "code",
   "execution_count": null,
   "metadata": {
    "id": "ETOXuJzBC3-o",
    "outputId": "381c3161-4caa-451f-8e39-faad0efec627"
   },
   "outputs": [
    {
     "name": "stdout",
     "output_type": "stream",
     "text": [
      "['eli', 'asdf', 'asdfa']\n",
      "['charles', 'martina', 'michael', 'florence', 'eli', 'asdf', 'asdfa', 'asdfadf', 'astest']\n"
     ]
    }
   ],
   "source": [
    "players = ['charles', 'martina', 'michael',\n",
    "           'florence', 'eli',\"asdf\",\n",
    "           \"asdfa\",\"asdfadf\",\"astest\"]\n",
    "\n",
    "fewPlayers = players[4:7]\n",
    "print(fewPlayers)\n",
    "print(players)\n"
   ]
  },
  {
   "cell_type": "code",
   "execution_count": null,
   "metadata": {
    "id": "YGjM1JM0C3-o",
    "outputId": "5e6f4076-11e0-4225-9268-3b53e6a3114d"
   },
   "outputs": [
    {
     "name": "stdout",
     "output_type": "stream",
     "text": [
      "['charles', 'martina', 'michael', 'florence']\n",
      "['charles', 'martina', 'michael', 'florence', 'eli', 'asdf', 'asdfa', 'asdfadf', 'astest']\n"
     ]
    }
   ],
   "source": [
    "players = ['charles', 'martina', 'michael',\n",
    "           'florence', 'eli',\"asdf\",\n",
    "           \"asdfa\",\"asdfadf\",\"astest\"]\n",
    "fewPlayers = players[:4]\n",
    "print(fewPlayers)\n",
    "print(players)"
   ]
  },
  {
   "cell_type": "code",
   "execution_count": null,
   "metadata": {
    "id": "PWycPHwcC3-o",
    "outputId": "16d75721-a141-4a62-bc81-cfde6d91bd72"
   },
   "outputs": [
    {
     "name": "stdout",
     "output_type": "stream",
     "text": [
      "['eli', 'asdf', 'asdfa', 'asdfadf', 'astest']\n",
      "['charles', 'martina', 'michael', 'florence', 'eli', 'asdf', 'asdfa', 'asdfadf', 'astest']\n"
     ]
    }
   ],
   "source": [
    "players = ['charles', 'martina', 'michael',\n",
    "           'florence', 'eli',\"asdf\",\n",
    "           \"asdfa\",\"asdfadf\",\"astest\"]\n",
    "fewPlayers = players[4:]\n",
    "print(fewPlayers)\n",
    "print(players)"
   ]
  },
  {
   "cell_type": "code",
   "execution_count": null,
   "metadata": {
    "id": "ZS3ToGhXC3-p",
    "outputId": "81e4ff3b-89e3-4e45-f18f-c03d8a90ae8c"
   },
   "outputs": [
    {
     "name": "stdout",
     "output_type": "stream",
     "text": [
      "['charles', 'martina', 'michael', 'florence', 'eli', 'asdf', 'asdfa', 'asdfadf', 'astest']\n",
      "['charles', 'martina', 'michael', 'florence', 'eli', 'asdf', 'asdfa', 'asdfadf', 'astest']\n"
     ]
    }
   ],
   "source": [
    "players = ['charles', 'martina', 'michael',\n",
    "           'florence', 'eli',\"asdf\",\n",
    "           \"asdfa\",\"asdfadf\",\"astest\"]\n",
    "fewPlayers = players[:]\n",
    "print(fewPlayers)\n",
    "print(players)"
   ]
  },
  {
   "cell_type": "code",
   "execution_count": null,
   "metadata": {
    "id": "L8n3wV5NC3-p",
    "outputId": "d3e855ad-a139-4cda-8b9b-4e6f01e650c4"
   },
   "outputs": [
    {
     "name": "stdout",
     "output_type": "stream",
     "text": [
      "['martina', 'florence', '1']\n",
      "['charles', 'martina', 'michael', 'florence', 'eli', '1', '2', '3', '4']\n"
     ]
    }
   ],
   "source": [
    "players = ['charles', 'martina', 'michael',\n",
    "           'florence', 'eli',\"1\",\n",
    "           \"2\",\"3\",\"4\"]\n",
    "fewPlayers = players[1:6:2]\n",
    "print(fewPlayers)\n",
    "print(players)"
   ]
  },
  {
   "cell_type": "code",
   "execution_count": null,
   "metadata": {
    "id": "C6LoSPDmC3-p",
    "outputId": "dbc411bd-76b4-4e0e-92eb-d9ff17766f2b"
   },
   "outputs": [
    {
     "name": "stdout",
     "output_type": "stream",
     "text": [
      "['charles', 'michael', 'eli', '2', '4']\n",
      "['charles', 'martina', 'michael', 'florence', 'eli', '1', '2', '3', '4']\n"
     ]
    }
   ],
   "source": [
    "players = ['charles', 'martina', 'michael',\n",
    "           'florence', 'eli',\"1\",\n",
    "           \"2\",\"3\",\"4\"]\n",
    "fewPlayers = players[::2]\n",
    "print(fewPlayers)\n",
    "print(players)"
   ]
  },
  {
   "cell_type": "code",
   "execution_count": null,
   "metadata": {
    "id": "Hf5HwsuLC3-p",
    "outputId": "3e69fb67-c1ec-4b8e-cee9-e561b9c127e8"
   },
   "outputs": [
    {
     "name": "stdout",
     "output_type": "stream",
     "text": [
      "['charles', 'michael', 'eli', '2', '4']\n"
     ]
    }
   ],
   "source": [
    "players = ['charles', 'martina', 'michael',\n",
    "           'florence', 'eli',\"1\",\n",
    "           \"2\",\"3\",\"4\"]\n",
    "print(players[::2])\n",
    "\n"
   ]
  },
  {
   "cell_type": "code",
   "execution_count": null,
   "metadata": {
    "id": "X-gWa8D0C3-q",
    "outputId": "cef74c4e-27cb-495e-c55d-b47f839552a5"
   },
   "outputs": [
    {
     "name": "stdout",
     "output_type": "stream",
     "text": [
      "['charles', 'martina', 'michael', 'florence', 'eli', '1', '2', '3', '4']\n",
      "2\n",
      "['2', '3', '4']\n"
     ]
    }
   ],
   "source": [
    "players = ['charles', 'martina', 'michael',\n",
    "           'florence', 'eli',\"1\",\n",
    "           \"2\",\"3\",\"4\"]\n",
    "print(players)\n",
    "print(players[-3])\n",
    "fewPlayers = players[-3:]\n",
    "print(fewPlayers)\n",
    "\n"
   ]
  },
  {
   "cell_type": "code",
   "execution_count": null,
   "metadata": {
    "id": "88ztd5Y_C3-q",
    "outputId": "4659ae45-076f-4692-be00-30adef293827"
   },
   "outputs": [
    {
     "name": "stdout",
     "output_type": "stream",
     "text": [
      "['charles', 'martina', 'michael', 'florence', 'eli', '1', '2', '3', '4']\n",
      "2\n",
      "['eli', '1']\n"
     ]
    }
   ],
   "source": [
    "players = ['charles', 'martina', 'michael',\n",
    "           'florence', 'eli',\"1\",\n",
    "           \"2\",\"3\",\"4\"]\n",
    "print(players)\n",
    "print(players[-3])\n",
    "fewPlayers = players[-5:-3]\n",
    "print(fewPlayers)\n",
    "\n"
   ]
  },
  {
   "cell_type": "code",
   "execution_count": null,
   "metadata": {
    "id": "sAGqUBTAC3-q",
    "outputId": "81a4abec-a93e-425e-88eb-6f485e4a340b"
   },
   "outputs": [
    {
     "name": "stdout",
     "output_type": "stream",
     "text": [
      "['charles', 'martina', 'michael', 'florence', 'eli', '1', '2', '3', '4']\n",
      "2\n",
      "['2', '1', 'eli', 'florence']\n"
     ]
    }
   ],
   "source": [
    "players = ['charles', 'martina', 'michael',\n",
    "           'florence', 'eli',\"1\",\n",
    "           \"2\",\"3\",\"4\"]\n",
    "print(players)\n",
    "print(players[-3])\n",
    "fewPlayers = players[-3:-7:-1]\n",
    "print(fewPlayers)\n",
    "\n"
   ]
  },
  {
   "cell_type": "code",
   "execution_count": null,
   "metadata": {
    "id": "pJCuSZ5IC3-r",
    "outputId": "8512ec35-c598-4971-f3ff-aa5a4912de6e"
   },
   "outputs": [
    {
     "name": "stdout",
     "output_type": "stream",
     "text": [
      "['charles', 'martina', 'michael', 'florence', 'eli', '1', '2', '3', '4']\n",
      "2\n",
      "['4', '3', '2', '1', 'eli', 'florence', 'michael', 'martina', 'charles']\n"
     ]
    }
   ],
   "source": [
    "players = ['charles', 'martina', 'michael',\n",
    "           'florence', 'eli',\"1\",\n",
    "           \"2\",\"3\",\"4\"]\n",
    "print(players)\n",
    "print(players[-3])\n",
    "fewPlayers = players[::-1]\n",
    "print(fewPlayers)\n",
    "\n"
   ]
  },
  {
   "cell_type": "code",
   "execution_count": null,
   "metadata": {
    "id": "ytc1DUOtC3-r",
    "outputId": "abe43e64-69e3-4881-b278-f4d22759dc38"
   },
   "outputs": [
    {
     "name": "stdout",
     "output_type": "stream",
     "text": [
      "My favorite foods are:\n",
      "['pizza', 'falafel', 'carrot cake', 'cannoli']\n",
      "['pizza', 'falafel', 'carrot cake', 'ice cream']\n"
     ]
    }
   ],
   "source": [
    "my_foods = ['pizza', 'falafel', 'carrot cake']\n",
    "friend_foods = my_foods[:]\n",
    "my_foods.append('cannoli')\n",
    "friend_foods.append('ice cream')\n",
    "print(\"My favorite foods are:\")\n",
    "print(my_foods)\n",
    "print(friend_foods)"
   ]
  },
  {
   "cell_type": "markdown",
   "metadata": {
    "id": "YxMfKsvjC3-r"
   },
   "source": [
    "# TUPLE"
   ]
  },
  {
   "cell_type": "code",
   "execution_count": null,
   "metadata": {
    "id": "iKzShP01C3-r",
    "outputId": "ecdf3ef1-c8e4-4598-af12-82e9a934e8e9"
   },
   "outputs": [
    {
     "name": "stdout",
     "output_type": "stream",
     "text": [
      "(200, 50)\n",
      "200\n",
      "50\n"
     ]
    }
   ],
   "source": [
    "dimensions = (200, 50)\n",
    "print(dimensions)\n",
    "print(dimensions[0])\n",
    "print(dimensions[1])\n",
    "\n"
   ]
  },
  {
   "cell_type": "code",
   "execution_count": null,
   "metadata": {
    "id": "Ujm3iZr0C3-s",
    "outputId": "6af2fa06-cf07-4e29-e897-47fdfdb31f71"
   },
   "outputs": [
    {
     "name": "stdout",
     "output_type": "stream",
     "text": [
      "(200, 50)\n",
      "(200, 50)\n"
     ]
    }
   ],
   "source": [
    "dimensions = (200, 50)\n",
    "print(dimensions)\n",
    "#dimensions.append(34)\n",
    "print(dimensions)\n",
    "\n",
    "\n"
   ]
  },
  {
   "cell_type": "code",
   "execution_count": null,
   "metadata": {
    "id": "70OXef0wC3-s",
    "outputId": "645146c9-8286-4508-e468-b20769c8992b"
   },
   "outputs": [
    {
     "name": "stdout",
     "output_type": "stream",
     "text": [
      "(200, 50)\n"
     ]
    },
    {
     "ename": "TypeError",
     "evalue": "'tuple' object does not support item assignment",
     "output_type": "error",
     "traceback": [
      "\u001b[1;31m---------------------------------------------------------------------------\u001b[0m",
      "\u001b[1;31mTypeError\u001b[0m                                 Traceback (most recent call last)",
      "\u001b[1;32m<ipython-input-45-972dacca1599>\u001b[0m in \u001b[0;36m<module>\u001b[1;34m\u001b[0m\n\u001b[0;32m      1\u001b[0m \u001b[0mdimensions\u001b[0m \u001b[1;33m=\u001b[0m \u001b[1;33m(\u001b[0m\u001b[1;36m200\u001b[0m\u001b[1;33m,\u001b[0m \u001b[1;36m50\u001b[0m\u001b[1;33m)\u001b[0m\u001b[1;33m\u001b[0m\u001b[1;33m\u001b[0m\u001b[0m\n\u001b[0;32m      2\u001b[0m \u001b[0mprint\u001b[0m\u001b[1;33m(\u001b[0m\u001b[0mdimensions\u001b[0m\u001b[1;33m)\u001b[0m\u001b[1;33m\u001b[0m\u001b[1;33m\u001b[0m\u001b[0m\n\u001b[1;32m----> 3\u001b[1;33m \u001b[0mdimensions\u001b[0m\u001b[1;33m[\u001b[0m\u001b[1;36m1\u001b[0m\u001b[1;33m]\u001b[0m \u001b[1;33m=\u001b[0m \u001b[1;36m45\u001b[0m\u001b[1;33m\u001b[0m\u001b[1;33m\u001b[0m\u001b[0m\n\u001b[0m\u001b[0;32m      4\u001b[0m \u001b[0mprint\u001b[0m\u001b[1;33m(\u001b[0m\u001b[0mdimensions\u001b[0m\u001b[1;33m)\u001b[0m\u001b[1;33m\u001b[0m\u001b[1;33m\u001b[0m\u001b[0m\n\u001b[0;32m      5\u001b[0m \u001b[1;33m\u001b[0m\u001b[0m\n",
      "\u001b[1;31mTypeError\u001b[0m: 'tuple' object does not support item assignment"
     ]
    }
   ],
   "source": [
    "dimensions = (200, 50)\n",
    "print(dimensions)\n",
    "dimensions[1] = 45\n",
    "print(dimensions)\n",
    "\n",
    "\n"
   ]
  },
  {
   "cell_type": "code",
   "execution_count": null,
   "metadata": {
    "id": "_Y0TolllC3-s",
    "outputId": "f74c67bf-41f1-4b54-ba80-cdfedfad874d"
   },
   "outputs": [
    {
     "name": "stdout",
     "output_type": "stream",
     "text": [
      "(1, 2, 3, 4, 5, 6, 7, 8, 9, 10)\n",
      "1\n",
      "2\n",
      "3\n",
      "4\n",
      "5\n",
      "6\n",
      "7\n",
      "8\n",
      "9\n",
      "10\n"
     ]
    }
   ],
   "source": [
    "dimensions = tuple(range(1,11))\n",
    "print(dimensions)\n",
    "for d in dimensions:\n",
    "    print(d)\n",
    "\n",
    "\n"
   ]
  },
  {
   "cell_type": "code",
   "execution_count": null,
   "metadata": {
    "id": "a8lvKhMpC3-t",
    "outputId": "145b13b0-68b6-4e40-e08f-de719b254095"
   },
   "outputs": [
    {
     "name": "stdout",
     "output_type": "stream",
     "text": [
      "(200, 500)\n",
      "(300, 500)\n"
     ]
    }
   ],
   "source": [
    "dimensions = (200,500)\n",
    "print(dimensions)\n",
    "dimensions = (300,500)\n",
    "print(dimensions)\n",
    "\n"
   ]
  },
  {
   "cell_type": "code",
   "execution_count": null,
   "metadata": {
    "id": "EUZMWcRCC3-t",
    "outputId": "4749db79-29c2-4a87-87e0-483be753a097"
   },
   "outputs": [
    {
     "name": "stdout",
     "output_type": "stream",
     "text": [
      "(1, 4, 9, 16, 25, 36, 49, 64, 81, 100)\n"
     ]
    }
   ],
   "source": [
    "dimensions = tuple(val**2 for val in range(1,11))\n",
    "print(dimensions)\n",
    "\n"
   ]
  },
  {
   "cell_type": "markdown",
   "metadata": {
    "id": "t-FWJjmhC3-t"
   },
   "source": [
    "# IF ELSE"
   ]
  },
  {
   "cell_type": "code",
   "execution_count": null,
   "metadata": {
    "id": "hVyEAMG_C3-t",
    "outputId": "ac50ba38-3ac8-489e-cefd-fe50b20a25df"
   },
   "outputs": [
    {
     "name": "stdout",
     "output_type": "stream",
     "text": [
      "Audi\n",
      "BMW\n",
      "Subaru\n",
      "Toyota\n"
     ]
    }
   ],
   "source": [
    "cars = ['audi', 'bmw', 'subaru', 'toyota']\n",
    "for car in cars:\n",
    "    if car == 'bmw':\n",
    "        print(car.upper())\n",
    "    else:\n",
    "        print(car.title())"
   ]
  },
  {
   "cell_type": "code",
   "execution_count": null,
   "metadata": {
    "id": "Jnh-06wtC3-u",
    "outputId": "22932e1b-4726-4451-c871-9f4217372799"
   },
   "outputs": [
    {
     "name": "stdout",
     "output_type": "stream",
     "text": [
      "A+\n"
     ]
    }
   ],
   "source": [
    "marks = 95\n",
    "\n",
    "if marks > 80:\n",
    "    print(\"A+\")\n",
    "elif marks >70:\n",
    "    print(\"A\")\n",
    "elif marks >60:\n",
    "    print(\"B\")\n",
    "elif marks > 50:\n",
    "    print(\"C\")\n",
    "elif marks > 40:\n",
    "    print(\"D\")\n",
    "else:\n",
    "    print(\"Failed\")\n",
    "\n"
   ]
  },
  {
   "cell_type": "code",
   "execution_count": null,
   "metadata": {
    "id": "4gTlucp6C3-u",
    "outputId": "3bc10d84-dfaa-4f83-e9a7-52230b5dd519"
   },
   "outputs": [
    {
     "name": "stdout",
     "output_type": "stream",
     "text": [
      "D\n"
     ]
    }
   ],
   "source": [
    "marks = 95\n",
    "\n",
    "if marks > 40:\n",
    "    print(\"D\")\n",
    "elif marks > 50:\n",
    "    print(\"C\")\n",
    "elif marks > 60:\n",
    "    print(\"B\")\n",
    "elif marks >70:\n",
    "    print(\"A\")\n",
    "elif marks > 80:\n",
    "    print(\"A+\")\n",
    "else:\n",
    "    print(\"Failed\")\n",
    "\n"
   ]
  },
  {
   "cell_type": "code",
   "execution_count": null,
   "metadata": {
    "id": "ZfiYTIAEC3-u",
    "outputId": "56bb9d2e-fd18-4c18-9826-368e52ea6028"
   },
   "outputs": [
    {
     "name": "stdout",
     "output_type": "stream",
     "text": [
      "Failed\n"
     ]
    }
   ],
   "source": [
    "marks = 70\n",
    "\n",
    "if marks > 40 and marks < 50:\n",
    "    print(\"D\")\n",
    "elif marks > 50 and marks <60:\n",
    "    print(\"C\")\n",
    "elif marks > 60 and marks <70:\n",
    "    print(\"B\")\n",
    "elif marks >70 and marks < 80:\n",
    "    print(\"A\")\n",
    "elif marks > 80:\n",
    "    print(\"A+\")\n",
    "else:\n",
    "    print(\"Failed\")\n",
    "\n"
   ]
  },
  {
   "cell_type": "code",
   "execution_count": null,
   "metadata": {
    "id": "JqbD4AIKC3-u",
    "outputId": "02aa8c71-0e2c-4cdf-ba99-57a4c1f778bf"
   },
   "outputs": [
    {
     "name": "stdout",
     "output_type": "stream",
     "text": [
      "Failed\n"
     ]
    }
   ],
   "source": [
    "marks = 39\n",
    "\n",
    "if marks >= 40 and marks < 50:\n",
    "    print(\"D\")\n",
    "elif marks >= 50 and marks <60:\n",
    "    print(\"C\")\n",
    "elif marks >= 60 and marks <70:\n",
    "    print(\"B\")\n",
    "elif marks >= 70 and marks < 80:\n",
    "    print(\"A\")\n",
    "elif marks >= 80:\n",
    "    print(\"A+\")\n",
    "else:\n",
    "    print(\"Failed\")\n",
    "\n"
   ]
  },
  {
   "cell_type": "code",
   "execution_count": null,
   "metadata": {
    "id": "L-EIdgetC3-v",
    "outputId": "1551f8e8-1c70-4bc4-e10b-01ab4bd1927b"
   },
   "outputs": [
    {
     "name": "stdout",
     "output_type": "stream",
     "text": [
      "True\n",
      "Ok Sir\n"
     ]
    }
   ],
   "source": [
    "requested_toppings = ['mushrooms', 'onions', 'pineapple']\n",
    "\n",
    "print('mushrooms' in requested_toppings)\n",
    "\n",
    "if 'mushrooms' in requested_toppings:\n",
    "    print(\"Ok Sir\")\n",
    "else :\n",
    "    print(\"Sorry, not available Sir \")\n"
   ]
  },
  {
   "cell_type": "markdown",
   "metadata": {
    "id": "HWTTbCdmC3-v"
   },
   "source": [
    "# INPUT & WHILE LOOP"
   ]
  },
  {
   "cell_type": "code",
   "execution_count": null,
   "metadata": {
    "id": "q7KItR5wC3-v",
    "outputId": "1fef0444-e4ac-42c1-e727-ec65df9e1c45"
   },
   "outputs": [
    {
     "name": "stdout",
     "output_type": "stream",
     "text": [
      "Enter your name sohail\n",
      "Hello sohail!\n"
     ]
    }
   ],
   "source": [
    "message = input(\"Enter your name \")\n",
    "print(\"Hello \"+message+\"!\")"
   ]
  },
  {
   "cell_type": "code",
   "execution_count": null,
   "metadata": {
    "id": "5RPFWEQfC3-v",
    "outputId": "37bb30a5-923c-47af-ca46-9c549e68cae8"
   },
   "outputs": [
    {
     "name": "stdout",
     "output_type": "stream",
     "text": [
      "How old are you? 12\n",
      "12\n",
      "Grow up\n"
     ]
    }
   ],
   "source": [
    "age = input(\"How old are you? \")\n",
    "age = int(age)\n",
    "print(age)\n",
    "if age>18:\n",
    "    print(\"Here is yor CNIC\")\n",
    "else :\n",
    "    print(\"Grow up\")\n"
   ]
  },
  {
   "cell_type": "code",
   "execution_count": null,
   "metadata": {
    "id": "9z6YJ6UfC3-v"
   },
   "outputs": [],
   "source": [
    "age = int(input(\"How old are you? \"))\n",
    "print(age)\n",
    "if age>18:\n",
    "    print(\"Here is yor CNIC\")\n",
    "else :\n",
    "    print(\"Grow up\")"
   ]
  },
  {
   "cell_type": "code",
   "execution_count": null,
   "metadata": {
    "id": "Ky7VLN6RC3-w",
    "outputId": "bd4409e7-f781-44ee-bfb2-3c8963d95dd8"
   },
   "outputs": [
    {
     "name": "stdout",
     "output_type": "stream",
     "text": [
      "Enter your number2\n",
      "The number 2 even\n"
     ]
    }
   ],
   "source": [
    "num = int(input(\"Enter your number\"))\n",
    "if num % 2 == 0:\n",
    "    print(\"The number \"+str(num)+\" even\")\n",
    "else:\n",
    "    print(\"The number \" + str(num) + \" odd\")"
   ]
  },
  {
   "cell_type": "code",
   "execution_count": null,
   "metadata": {
    "id": "QG3LisWqC3-w",
    "outputId": "3385146b-44cc-4d56-9047-9bbf38066f60"
   },
   "outputs": [
    {
     "name": "stdout",
     "output_type": "stream",
     "text": [
      "6\n"
     ]
    }
   ],
   "source": [
    "current_number = 1\n",
    "\n",
    "while (current_number <= 5):\n",
    "    #print(current_number)\n",
    "    current_number += 1\n",
    "\n",
    "print(current_number)\n"
   ]
  },
  {
   "cell_type": "code",
   "execution_count": null,
   "metadata": {
    "id": "VtlC0t4pC3-w",
    "outputId": "ec78eea3-a1d6-4c73-96cb-b6c349a30733"
   },
   "outputs": [
    {
     "name": "stdout",
     "output_type": "stream",
     "text": [
      "Enter number 3\n",
      "1\n",
      "2\n"
     ]
    }
   ],
   "source": [
    "current_number = int(input(\"Enter number \"))\n",
    "\n",
    "for i in range(1,current_number):\n",
    "    print(i)\n"
   ]
  },
  {
   "cell_type": "code",
   "execution_count": null,
   "metadata": {
    "id": "GBifBzffC3-w"
   },
   "outputs": [],
   "source": [
    "current_number = int(input(\"Enter number \"))\n",
    "num = 0\n",
    "\n",
    "while num < current_number:\n",
    "    num += 1\n",
    "    if num == 3:\n",
    "        break\n",
    "    print(num)\n",
    "\n",
    "\n",
    "print(\"Final\",num)\n"
   ]
  },
  {
   "cell_type": "code",
   "execution_count": null,
   "metadata": {
    "id": "vz4bc3BbC3-w",
    "outputId": "bc8d0636-698d-49ed-d837-de6147c3d220"
   },
   "outputs": [
    {
     "name": "stdout",
     "output_type": "stream",
     "text": [
      "Enter number 2\n",
      "1\n",
      "2\n",
      "Final 2\n"
     ]
    }
   ],
   "source": [
    "current_number = int(input(\"Enter number \"))\n",
    "num = 0\n",
    "\n",
    "while num < current_number:\n",
    "    num += 1\n",
    "    if num == 3:\n",
    "        continue\n",
    "    print(num)\n",
    "\n",
    "\n",
    "print(\"Final\",num)\n"
   ]
  },
  {
   "cell_type": "markdown",
   "metadata": {
    "id": "nJXpkcNQC3-x"
   },
   "source": [
    "# RANDOM NUMBERS"
   ]
  },
  {
   "cell_type": "code",
   "execution_count": null,
   "metadata": {
    "id": "cK4QaQIvC3-x",
    "outputId": "f2e3dd64-a559-4ae8-bedf-e74e8bd80994"
   },
   "outputs": [
    {
     "name": "stdout",
     "output_type": "stream",
     "text": [
      "True\n"
     ]
    },
    {
     "name": "stderr",
     "output_type": "stream",
     "text": [
      "<>:3: SyntaxWarning: \"is\" with a literal. Did you mean \"==\"?\n",
      "<>:3: SyntaxWarning: \"is\" with a literal. Did you mean \"==\"?\n",
      "<ipython-input-75-14dab5f8fcf6>:3: SyntaxWarning: \"is\" with a literal. Did you mean \"==\"?\n",
      "  print(play is \"yes\")\n"
     ]
    }
   ],
   "source": [
    "play = \"yes\"\n",
    "\n",
    "print(play is \"yes\")"
   ]
  },
  {
   "cell_type": "code",
   "execution_count": null,
   "metadata": {
    "id": "wojS9HV2C3-x",
    "outputId": "3c00e94a-4615-44c3-e3ed-d0ce7af718be"
   },
   "outputs": [
    {
     "name": "stdout",
     "output_type": "stream",
     "text": [
      "14\n"
     ]
    }
   ],
   "source": [
    "from random import randint\n",
    "\n",
    "\n",
    "num = randint(1,15)\n",
    "print(num)\n"
   ]
  },
  {
   "cell_type": "code",
   "execution_count": null,
   "metadata": {
    "id": "61c_8Y2LC3-y",
    "outputId": "960c0c84-ed93-4e24-f022-f49be8007547"
   },
   "outputs": [
    {
     "name": "stdout",
     "output_type": "stream",
     "text": [
      "10\n",
      "15\n",
      "8\n",
      "7\n",
      "9\n",
      "15\n",
      "5\n",
      "9\n",
      "13\n",
      "1\n",
      "[10, 15, 8, 7, 9, 15, 5, 9, 13, 1]\n",
      "True\n",
      "False\n"
     ]
    }
   ],
   "source": [
    "from random import randint\n",
    "num = 0\n",
    "mylist = []\n",
    "for val in range(0,10):\n",
    "    num = randint(1,15)\n",
    "    mylist.append(num)\n",
    "    print(num)\n",
    "\n",
    "print(mylist)\n",
    "\n",
    "val = 6;\n",
    "print(val not in mylist)\n",
    "print(val in mylist)\n"
   ]
  },
  {
   "cell_type": "code",
   "execution_count": null,
   "metadata": {
    "colab": {
     "base_uri": "https://localhost:8080/"
    },
    "id": "y53rsHzHDMR3",
    "outputId": "9bc4fe76-9527-46d3-bb1b-109afb01470d"
   },
   "outputs": [
    {
     "name": "stdout",
     "output_type": "stream",
     "text": [
      "07:57:36\n",
      "7\n",
      "57\n",
      "36\n"
     ]
    }
   ],
   "source": [
    "#Time\n",
    "\n",
    "import time\n",
    "h_m_s = time.strftime('%H:%M:%S')\n",
    "print(h_m_s)\n",
    "hour1 = int(time.strftime('%H'))\n",
    "print(hour1)\n",
    "min1 = time.strftime('%M')\n",
    "print(min1)\n",
    "second1 = time.strftime('%S')\n",
    "print(second1)"
   ]
  },
  {
   "cell_type": "code",
   "execution_count": null,
   "metadata": {
    "id": "eTvJHDrwDMXG"
   },
   "outputs": [],
   "source": []
  },
  {
   "cell_type": "code",
   "execution_count": null,
   "metadata": {
    "id": "4uqflBJKDMcM"
   },
   "outputs": [],
   "source": []
  },
  {
   "cell_type": "markdown",
   "metadata": {
    "id": "fqHN54wLC3-z"
   },
   "source": [
    "-------------------------------------------------------------------------------------------------------------------------------\n",
    "-------------------------------------------------------------------------------------------------------------------------------\n",
    "# TASKS LAB 1\n",
    "-------------------------------------------------------------------------------------------------------------------------------\n",
    "-------------------------------------------------------------------------------------------------------------------------------\n",
    "\n",
    "\n",
    "1) Write a program that will take input from user to check if input number is prime or not.\n",
    "\n",
    "<br>\n",
    "\n",
    "\n",
    "2) Write a program that computes the number of elements in a list that are strictly less than a given number n (input by user).\n",
    "\n",
    "Example:\n",
    "\n",
    "x = [13, 56, 21, 45, 20, 41, 12, 43, 6]\n",
    "\n",
    "input number = 7\n",
    "\n",
    "Output:\n",
    "\n",
    "Number of elements that are smaller than 7 = 8\n",
    "\n",
    "(7<13 , 7<56 , 7<21 ,7<45 , 7<20 , 7<41 ,7<12 , 7<43 )\n",
    "\n",
    "<br>\n",
    "\n",
    "3) Write a program that will take a number as input from user. Random numbers will be generated (not greater than that input number). These random numbers will be appended to a list such that no duplicate number is appended to list. This process will continue till the length of list gets equal to that input number.\n",
    "\n",
    "\n",
    "4)Write a program to generate random numbers. User tries to guess number with input. If number matches, user wins\n",
    " else if user guess is incorrect, give him three chances. After win or lose, ask user do you want to continue! If user says 'yes' then generate new random number and start from point 1 again.\n",
    "\n",
    "<br>\n",
    "\n",
    "\n",
    "5) calculate the body mass index (BMI) of two variables input by the user: where BMI = weight / (height)^2. If the bmi is less than 18.5, they are underweight. If it is between 18.5 and 25, they have normal weight. If the bmi is over 25 and below 30, then they are overweight. If bmi is over 30 and below 35, they are obsese. Otherwise they are clinically obsese. Write code\n",
    "\n",
    "<br>\n",
    "\n",
    "6) With a given list [12,24,35,24,88,120,155,88,120,155], write a program to print this list after removing all duplicate values with original order reserved.\n",
    "\n",
    "Hints:\n",
    "Use set() to store a number of values without duplicate.\n",
    "\n",
    "<br>\n",
    "\n",
    "7) With two given lists [1,3,6,78,35,55] and [12,24,35,24,88,120,155], write a program to\n",
    "make a list whose elements are intersection of the given lists.\n",
    "\n",
    "Hints:\n",
    "Use set() and \"&=\" to do set intersection operation.\n",
    "\n",
    "<br>\n",
    "\n",
    "8) Take the height from the person who wants to buy a ticket for rollercoater. If the height is greater than 120 cm then the person can ride the rollercoaster otherwise not. Furthermore, in the case the height is greater than 120 and the age is less than 18, you charge \\$6 otherwise charger \\$10. Write a python code\n",
    "\n",
    "<br>\n",
    "\n",
    "\n",
    "8) Write a python code to determine if a given year is a leap year. Following is the way to work out if a given year is leap year:\n",
    "- on every year that is evenly divisible by 4\n",
    "- except any year that is evenly divisible by 100\n",
    "- unless the year is also divisible by 400\n",
    "\n",
    "<br>\n",
    "\n"
   ]
  }
 ],
 "metadata": {
  "colab": {
   "provenance": []
  },
  "kernelspec": {
   "display_name": "Python 3 (ipykernel)",
   "language": "python",
   "name": "python3"
  },
  "language_info": {
   "codemirror_mode": {
    "name": "ipython",
    "version": 3
   },
   "file_extension": ".py",
   "mimetype": "text/x-python",
   "name": "python",
   "nbconvert_exporter": "python",
   "pygments_lexer": "ipython3",
   "version": "3.11.4"
  }
 },
 "nbformat": 4,
 "nbformat_minor": 4
}
