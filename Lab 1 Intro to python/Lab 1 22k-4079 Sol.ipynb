{
 "cells": [
  {
   "cell_type": "code",
   "execution_count": 17,
   "metadata": {
    "colab": {
     "base_uri": "https://localhost:8080/"
    },
    "id": "e699gR2xhF9o",
    "outputId": "5a29820d-f1e8-4ce9-ecbb-6eff478cd8ca"
   },
   "outputs": [
    {
     "name": "stdout",
     "output_type": "stream",
     "text": [
      "7\n",
      "Prime\n"
     ]
    }
   ],
   "source": [
    "x=int(input())\n",
    "s=True\n",
    "for i in range(x-1,1,-1):\n",
    "  if x % i !=0:\n",
    "    s=True\n",
    "  else:\n",
    "    s=False\n",
    "    break\n",
    "if s == True:\n",
    "  print(\"Prime\")\n",
    "else:\n",
    "  print(\"Not Prime\")"
   ]
  },
  {
   "cell_type": "code",
   "execution_count": 24,
   "metadata": {
    "colab": {
     "base_uri": "https://localhost:8080/"
    },
    "id": "BZjq5KLy42LL",
    "outputId": "d4b43736-22a6-4502-967b-1bf6adf867ad"
   },
   "outputs": [
    {
     "name": "stdout",
     "output_type": "stream",
     "text": [
      "7\n",
      "Number of elements that are smaller than 7 =  0\n"
     ]
    }
   ],
   "source": [
    "num = int(input())\n",
    "c=0\n",
    "x=[13,56,21,45,20,41,12,43,6]\n",
    "for i in x:\n",
    "  if num <i:\n",
    "    c=c+1\n",
    "print(\"Number of elements that are smaller than 7 = \" ,(c))\n"
   ]
  },
  {
   "cell_type": "code",
   "execution_count": 27,
   "metadata": {
    "colab": {
     "base_uri": "https://localhost:8080/"
    },
    "id": "_7Rg2C8r6ABI",
    "outputId": "b45a3959-4064-4c8d-f51d-59a66c4befb7"
   },
   "outputs": [
    {
     "name": "stdout",
     "output_type": "stream",
     "text": [
      "10\n",
      "[4, 6, 5, 2, 7, 1, 10]\n"
     ]
    }
   ],
   "source": [
    "import random\n",
    "x = int(input())\n",
    "array = []\n",
    "for i in range(x):\n",
    "  randnum = random.randint(1,x)\n",
    "  if randnum not in array:\n",
    "    array.append(randnum)\n",
    "print(array)"
   ]
  },
  {
   "cell_type": "code",
   "execution_count": 33,
   "metadata": {
    "colab": {
     "base_uri": "https://localhost:8080/"
    },
    "id": "9j_PLwRc-Ed_",
    "outputId": "a5aa4c6a-44a5-47be-8708-3ca3485668e4"
   },
   "outputs": [
    {
     "name": "stdout",
     "output_type": "stream",
     "text": [
      "Our system has generated the random number form 1 to 10\n",
      "Guess the number\n",
      "Try  1\n",
      "7\n",
      "Wrong Guess Try Again\n",
      "\n",
      "Try  2\n",
      "10\n",
      "Wrong Guess Try Again\n",
      "\n",
      "Try  3\n",
      "7\n",
      "Wrong Guess Try Again\n",
      "\n"
     ]
    }
   ],
   "source": [
    "import random\n",
    "print(\"Our system has generated the random number form 1 to 10\\nGuess the number\")\n",
    "x =3\n",
    "for i in range(x):\n",
    "  rand = random.randint(1,10)\n",
    "  # print(\"Random number is \",rand)\n",
    "  print(\"Try \",(i+1))\n",
    "  num = int(input())\n",
    "  if num == rand:\n",
    "    print(\"You won\")\n",
    "    break\n",
    "  else:\n",
    "    print(\"Wrong Guess Try Again\\n\")\n",
    "    if i==3:\n",
    "      print(\"You Loss\")\n"
   ]
  },
  {
   "cell_type": "code",
   "execution_count": 39,
   "metadata": {
    "colab": {
     "base_uri": "https://localhost:8080/"
    },
    "id": "4s_GQAkGBL-S",
    "outputId": "ef7e18fd-e1c1-4390-8f6f-d925d1f59688"
   },
   "outputs": [
    {
     "name": "stdout",
     "output_type": "stream",
     "text": [
      "Input Height\n",
      "60\n",
      "Input Weight\n",
      "5.2\n",
      "UnderWeight\n"
     ]
    }
   ],
   "source": [
    "print(\"Input Height\")\n",
    "height = float (input())\n",
    "print(\"Input Weight\")\n",
    "weight = float (input())\n",
    "bmi = weight/(height)**2\n",
    "if bmi < 18.5:\n",
    "  print(\"UnderWeight\")\n",
    "elif 18.5 < bmi < 25:\n",
    "  print(\"Normal Weight\")\n",
    "elif 25 < bmi < 30:\n",
    "  print(\"Over Weight\")\n",
    "elif 30 < bmi < 35:\n",
    "  print(\"Obsese\")\n",
    "else:\n",
    "  print(\"clinically obsese\")"
   ]
  },
  {
   "cell_type": "code",
   "execution_count": 44,
   "metadata": {
    "colab": {
     "base_uri": "https://localhost:8080/"
    },
    "id": "Se3PvJbfEx-y",
    "outputId": "9abc0945-d180-476d-f810-32676d0902cc"
   },
   "outputs": [
    {
     "name": "stdout",
     "output_type": "stream",
     "text": [
      "[155, 120, 88, 35, 24, 12]\n"
     ]
    }
   ],
   "source": [
    "list1 = [12,24,35,24,88,120,155,88,120,155]\n",
    "newlist = []\n",
    "for i in list1:\n",
    "  if i not in newlist:\n",
    "    newlist.append(i)\n",
    "newlist.reverse()\n",
    "print(newlist)"
   ]
  },
  {
   "cell_type": "code",
   "execution_count": 46,
   "metadata": {
    "colab": {
     "base_uri": "https://localhost:8080/"
    },
    "id": "BDv4Lk7cGpOG",
    "outputId": "4b1816e3-4495-4b00-9990-dd57e1c492c2"
   },
   "outputs": [
    {
     "name": "stdout",
     "output_type": "stream",
     "text": [
      "[35]\n"
     ]
    }
   ],
   "source": [
    "list1 = [1,3,6,78,35,55]\n",
    "list2 = [12,24,35,24,88,120,155]\n",
    "\n",
    "set1 = set(list1)\n",
    "set2 = set(list2)\n",
    "\n",
    "intersection = set1 & set2\n",
    "newlist = list(intersection)\n",
    "\n",
    "print(newlist)"
   ]
  },
  {
   "cell_type": "code",
   "execution_count": 55,
   "metadata": {
    "colab": {
     "base_uri": "https://localhost:8080/"
    },
    "id": "zQoDyUmmHnKb",
    "outputId": "41e1c31c-0ab8-4cbd-eae3-1b71952d6335"
   },
   "outputs": [
    {
     "name": "stdout",
     "output_type": "stream",
     "text": [
      "Enter the height\n",
      "121.1\n",
      "Enter the age\n",
      "19\n",
      "He can ride and chrged $10\n"
     ]
    }
   ],
   "source": [
    "print(\"Enter the height\")\n",
    "height = float(input())\n",
    "print(\"Enter the age\")\n",
    "age = int(input())\n",
    "if height >120:\n",
    "  if age < 18:\n",
    "    print(\"He can ride and chrged $6\")\n",
    "  else:\n",
    "      print(\"He can ride and chrged $10\")\n",
    "else:\n",
    "  print(\"Can not ride\")"
   ]
  },
  {
   "cell_type": "code",
   "execution_count": 54,
   "metadata": {
    "colab": {
     "base_uri": "https://localhost:8080/"
    },
    "id": "afHozYD4L8mw",
    "outputId": "ef46fa34-857f-4c06-e2fe-f82879a2b39c"
   },
   "outputs": [
    {
     "name": "stdout",
     "output_type": "stream",
     "text": [
      "Input Year\n",
      "2023\n",
      "Not Leap year\n"
     ]
    }
   ],
   "source": [
    "print(\"Input Year\")\n",
    "year = int(input())\n",
    "if (year % 4 == 0 and year % 100 != 0) or (year % 400 == 0):\n",
    "  print(\"Leap year\")\n",
    "else:\n",
    "  print(\"Not Leap year\")\n"
   ]
  }
 ],
 "metadata": {
  "colab": {
   "provenance": []
  },
  "kernelspec": {
   "display_name": "Python 3 (ipykernel)",
   "language": "python",
   "name": "python3"
  },
  "language_info": {
   "codemirror_mode": {
    "name": "ipython",
    "version": 3
   },
   "file_extension": ".py",
   "mimetype": "text/x-python",
   "name": "python",
   "nbconvert_exporter": "python",
   "pygments_lexer": "ipython3",
   "version": "3.11.4"
  }
 },
 "nbformat": 4,
 "nbformat_minor": 4
}
