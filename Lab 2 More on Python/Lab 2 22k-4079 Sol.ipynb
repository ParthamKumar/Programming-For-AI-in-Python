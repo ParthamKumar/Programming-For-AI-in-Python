{
  "nbformat": 4,
  "nbformat_minor": 0,
  "metadata": {
    "colab": {
      "provenance": []
    },
    "kernelspec": {
      "name": "python3",
      "display_name": "Python 3"
    },
    "language_info": {
      "name": "python"
    }
  },
  "cells": [
    {
      "cell_type": "code",
      "execution_count": 7,
      "metadata": {
        "colab": {
          "base_uri": "https://localhost:8080/"
        },
        "id": "wSgy_p3fzMFI",
        "outputId": "4433a166-57b7-48d4-8d1e-c5090bb7d91b"
      },
      "outputs": [
        {
          "output_type": "stream",
          "name": "stdout",
          "text": [
            "Enter the physics marks40\n",
            "Enter the physics marks78\n",
            "Enter the physics marks82\n",
            "Avg is  66.66666666666667\n",
            "Sub with highest marks: Maths (82) marks\n"
          ]
        }
      ],
      "source": [
        "# Q1\n",
        "phy = int (input(\"Enter the physics marks\"))\n",
        "chem = int (input(\"Enter the physics marks\"))\n",
        "maths = int (input(\"Enter the physics marks\"))\n",
        "\n",
        "marks_dict = {\n",
        "    \"Physics\": phy,\n",
        "    \"Chemistry\": chem,\n",
        "    \"Maths\": maths\n",
        "}\n",
        "avg = sum(marks_dict.values())/len(marks_dict)\n",
        "high_marks = max(marks_dict,key=marks_dict.get)\n",
        "print(\"Avg is \",avg)\n",
        "print(\"Sub with highest marks: {} ({}) marks\".format(high_marks, marks_dict[high_marks]))\n"
      ]
    },
    {
      "cell_type": "code",
      "source": [
        "# Q2\n",
        "squr_dict = {}\n",
        "for i in range(1,11):\n",
        "  squr_dict[i] = i**2\n",
        "print(squr_dict)"
      ],
      "metadata": {
        "colab": {
          "base_uri": "https://localhost:8080/"
        },
        "id": "CPucpy1X3SsE",
        "outputId": "5a71aa61-5de4-4e78-f579-d79e8d7dbad2"
      },
      "execution_count": 10,
      "outputs": [
        {
          "output_type": "stream",
          "name": "stdout",
          "text": [
            "{1: 1, 2: 4, 3: 9, 4: 16, 5: 25, 6: 36, 7: 49, 8: 64, 9: 81, 10: 100}\n"
          ]
        }
      ]
    },
    {
      "cell_type": "code",
      "source": [
        "# Q3\n",
        "def employee(name,salary=10000):\n",
        "  tax = 0.02 * salary\n",
        "  after_tax = salary-tax\n",
        "  print(\"Employee Name is \",name)\n",
        "  print(\"Salary after tax is \",after_tax)\n",
        "\n",
        "employee(\"Kumar\",300000)\n",
        "employee(\"Partham\")"
      ],
      "metadata": {
        "colab": {
          "base_uri": "https://localhost:8080/"
        },
        "id": "KvrgcdEd4Pmw",
        "outputId": "c9ddaef5-8662-4d88-c228-7d733399c3c2"
      },
      "execution_count": 12,
      "outputs": [
        {
          "output_type": "stream",
          "name": "stdout",
          "text": [
            "Employee Name is  Kumar\n",
            "Salary after tax is  294000.0\n",
            "Employee Name is  Partham\n",
            "Salary after tax is  9800.0\n"
          ]
        }
      ]
    },
    {
      "cell_type": "code",
      "source": [
        "# Q4\n",
        "num = int(input(\"Enter the number \"))\n",
        "fact = 1\n",
        "while num > 0:\n",
        "  fact = fact * num\n",
        "  num = num - 1\n",
        "print(\"Factoral is \",fact)"
      ],
      "metadata": {
        "colab": {
          "base_uri": "https://localhost:8080/"
        },
        "id": "4ly_vXHF5-Yy",
        "outputId": "6db307ad-619b-4583-b592-c36213b6db72"
      },
      "execution_count": 16,
      "outputs": [
        {
          "output_type": "stream",
          "name": "stdout",
          "text": [
            "Enter the number 5\n",
            "Factoral is  120\n"
          ]
        }
      ]
    },
    {
      "cell_type": "code",
      "source": [
        "# Q5\n",
        "person_list = []\n",
        "for i in range(3):\n",
        "  name = input(\"Enter the name of person \" + str(i + 1) + \": \")\n",
        "  age = int(input(\"Enter the age of person \" + str(i + 1) + \": \"))\n",
        "  person_dict ={ name : age}\n",
        "  person_list.append(person_dict)\n",
        "print(\"List of people :\")\n",
        "for i in person_list:\n",
        "  print(i)"
      ],
      "metadata": {
        "colab": {
          "base_uri": "https://localhost:8080/"
        },
        "id": "f9XP3rVq7LT6",
        "outputId": "56a03f09-6d7b-4425-8400-57081ff511e6"
      },
      "execution_count": 22,
      "outputs": [
        {
          "output_type": "stream",
          "name": "stdout",
          "text": [
            "Enter the name of person 1: Partham\n",
            "Enter the age of person 1: 20\n",
            "Enter the name of person 2: Kumar\n",
            "Enter the age of person 2: 21\n",
            "Enter the name of person 3: Chawla\n",
            "Enter the age of person 3: 23\n",
            "List of people :\n",
            "{'Partham': 20}\n",
            "{'Kumar': 21}\n",
            "{'Chawla': 23}\n"
          ]
        }
      ]
    }
  ]
}