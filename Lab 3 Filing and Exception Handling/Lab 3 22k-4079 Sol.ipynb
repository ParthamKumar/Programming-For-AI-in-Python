{
 "cells": [
  {
   "cell_type": "code",
   "execution_count": 5,
   "id": "96c4c595-f71d-45e9-a606-015fc3224ef5",
   "metadata": {},
   "outputs": [
    {
     "name": "stdin",
     "output_type": "stream",
     "text": [
      "Enter the number of key-value pairs you want to enter:  3\n",
      "Enter the key:  1\n",
      "Enter the value:  20\n",
      "Enter the key:  2\n",
      "Enter the value:  30\n",
      "Enter the key:  3\n",
      "Enter the value:  40\n"
     ]
    },
    {
     "name": "stdout",
     "output_type": "stream",
     "text": [
      "Dictionary: {'1': '20', '2': '30', '3': '40'}\n",
      "Press 1 to check the value associated with a key\n",
      "Press 2 to check the key associated with a value\n"
     ]
    },
    {
     "name": "stdin",
     "output_type": "stream",
     "text": [
      "Enter your choice:  1\n",
      "Enter the key:  2\n"
     ]
    },
    {
     "name": "stdout",
     "output_type": "stream",
     "text": [
      "Value at this key is: 30\n"
     ]
    }
   ],
   "source": [
    "#Q1\n",
    "new_dic = {}\n",
    "\n",
    "values = int(input(\"Enter the number of key-value pairs you want to enter: \"))\n",
    "for i in range(values):\n",
    "    key = input(\"Enter the key: \")\n",
    "    value = input(\"Enter the value: \")\n",
    "    new_dic[key] = value\n",
    "\n",
    "print(\"Dictionary:\", new_dic)\n",
    "\n",
    "print(\"Press 1 to check the value associated with a key\")\n",
    "print(\"Press 2 to check the key associated with a value\")\n",
    "choose = int(input(\"Enter your choice: \"))\n",
    "\n",
    "if choose == 1:\n",
    "    x = input(\"Enter the key: \")\n",
    "    if x in new_dic:\n",
    "        print(\"Value at this key is:\", new_dic[x])\n",
    "    else:\n",
    "        print(\"Key not found in the dictionary\")\n",
    "\n",
    "elif choose == 2:\n",
    "    y = input(\"Enter the value: \")\n",
    "    found_keys = []\n",
    "    for key, value in new_dic.items():\n",
    "        if value == y:\n",
    "            found_keys.append(key)\n",
    "    if found_keys:\n",
    "        print(\"Keys associated with this value:\", found_keys)\n",
    "    else:\n",
    "        print(\"Value not found in the dictionary\")\n",
    "\n",
    "else:\n",
    "    print(\"Invalid choice. Please choose 1 or 2.\")"
   ]
  },
  {
   "cell_type": "code",
   "execution_count": 8,
   "id": "05c382ff-6668-4bf8-a422-6271a04df6cb",
   "metadata": {},
   "outputs": [
    {
     "name": "stdin",
     "output_type": "stream",
     "text": [
      "Enter the list with space 1 2 3\n",
      "Enter the second list of same size with space Partham kumar chawla\n"
     ]
    },
    {
     "name": "stdout",
     "output_type": "stream",
     "text": [
      "This Dictionar is \n",
      "{'1': 'Partham', '2': 'kumar', '3': 'chawla'}\n"
     ]
    }
   ],
   "source": [
    "#Q2\n",
    "final_dict = {}\n",
    "list1 = input(\"Enter the list with space\").split()\n",
    "list2 = input(\"Enter the second list of same size with space\").split()\n",
    "if len(list1) != len(list2):\n",
    "    print(\"Both lists does not have same length\")\n",
    "else:\n",
    "    for i in range(len(list1)):\n",
    "        key = list1[i]\n",
    "        value = list2[i]\n",
    "        final_dict[key] = value\n",
    "print(\"This Dictionar is \")\n",
    "print(final_dict)"
   ]
  },
  {
   "cell_type": "code",
   "execution_count": 6,
   "id": "4a972296-272a-436a-9b4b-cfc4db5bd899",
   "metadata": {},
   "outputs": [
    {
     "name": "stdin",
     "output_type": "stream",
     "text": [
      "Enter the name:  Nako_moto\n",
      "Enter the CNIC:  7863-865-7\n",
      "Enter the age:  46\n",
      "Enter the salary:  50000\n"
     ]
    },
    {
     "name": "stdout",
     "output_type": "stream",
     "text": [
      "Data Saved\n"
     ]
    },
    {
     "name": "stdin",
     "output_type": "stream",
     "text": [
      "Enter the contact number 0336-xxxxxx\n"
     ]
    },
    {
     "name": "stdout",
     "output_type": "stream",
     "text": [
      "No added\n",
      "Data is:  \n",
      "Name: Nako_moto\n",
      "Cnic No: 7863-865-7\n",
      "Age: 46\n",
      "Salary: 50000\n",
      "Contact No: 0336-xxxxxx\n",
      "\n"
     ]
    }
   ],
   "source": [
    "#Q3\n",
    "name = input(\"Enter the name: \")\n",
    "cnic = input(\"Enter the CNIC: \")\n",
    "age = input(\"Enter the age: \")\n",
    "salary = input(\"Enter the salary: \")\n",
    "\n",
    "with open(\"biodata.txt\", \"w\") as file:\n",
    "    file.write(f\"Name: {name}\\n\")\n",
    "    file.write(f\"Cnic No: {cnic}\\n\")\n",
    "    file.write(f\"Age: {age}\\n\")\n",
    "    file.write(f\"Salary: {salary}\\n\")\n",
    "\n",
    "print(\"Data Saved\")\n",
    "cotNo = input(\"Enter the contact number\")\n",
    "with open(\"biodata.txt\", \"a\") as file:\n",
    "    file.write(f\"Contact No: {cotNo}\\n\")\n",
    "print(\"No added\")\n",
    "with open(\"biodata.txt\", \"r\") as file:\n",
    "    content = file.read()\n",
    "print(\"Data is:  \")\n",
    "print(content)"
   ]
  },
  {
   "cell_type": "code",
   "execution_count": 23,
   "id": "ec45754e-8a80-4d8b-aa53-c6f35d64a13b",
   "metadata": {},
   "outputs": [
    {
     "name": "stdout",
     "output_type": "stream",
     "text": [
      "Task Done\n"
     ]
    }
   ],
   "source": [
    "#Q4\n",
    "word = \"J\"\n",
    "replace = \"I\"\n",
    "\n",
    "with open(\"replacement_needed.txt\", \"r\") as input_file:\n",
    "    content = input_file.read()\n",
    "\n",
    "update = \"\"\n",
    "for char in content:\n",
    "    if char == word:\n",
    "        update = update + replace  # Correct the variable name here\n",
    "    else:\n",
    "        update = update + char\n",
    "\n",
    "with open(\"replacement_needed.txt\", \"w\") as output_file:\n",
    "    output_file.write(update)\n",
    "\n",
    "print(\"Task Done\")\n"
   ]
  },
  {
   "cell_type": "code",
   "execution_count": 18,
   "id": "7c7854e4-4d09-455d-a2d6-104776524405",
   "metadata": {},
   "outputs": [
    {
     "name": "stdin",
     "output_type": "stream",
     "text": [
      "Enter name:  Ali\n",
      "Enter age:  23\n",
      "Enter name:  Saad\n",
      "Enter age:  24\n",
      "Enter name:  Salman\n",
      "Enter age:  15\n",
      "Enter name:  Shams\n",
      "Enter age:  25\n"
     ]
    },
    {
     "name": "stdout",
     "output_type": "stream",
     "text": [
      "Data saved\n",
      "Name is Shams age is 25 years.\n"
     ]
    }
   ],
   "source": [
    "#Q5\n",
    "import json\n",
    "\n",
    "dictionary = {}\n",
    "for i in range(4):\n",
    "    name = input(\"Enter name: \")\n",
    "    age = int(input(\"Enter age: \"))\n",
    "    dictionary[name] = age\n",
    "\n",
    "with open(\"jfile.json\", \"w\") as json_file:\n",
    "    json.dump(dictionary, json_file)\n",
    "print(\"Data saved\")\n",
    "maxage = 0\n",
    "mname = None\n",
    "with open(\"jfile.json\", \"r\") as json_file:\n",
    "    loaded_dict = json.load(json_file)\n",
    "\n",
    "for name, age in loaded_dict.items():\n",
    "    if age > maxage:\n",
    "        maxage = age\n",
    "        mname = name\n",
    "\n",
    "print(f\"Name is {mname} age is {maxage} years.\")\n"
   ]
  },
  {
   "cell_type": "code",
   "execution_count": 20,
   "id": "09d7c0b3-99cd-4bad-bc74-d36ccb757b1f",
   "metadata": {},
   "outputs": [
    {
     "name": "stdin",
     "output_type": "stream",
     "text": [
      "Enter the number 1 1\n",
      "Enter the number 2 0\n"
     ]
    },
    {
     "name": "stdout",
     "output_type": "stream",
     "text": [
      "One number is 0\n"
     ]
    }
   ],
   "source": [
    "try:\n",
    "    number1 = int(input(\"Enter the number 1\"))\n",
    "    number2 = int(input(\"Enter the number 2\"))\n",
    "    \n",
    "    ratio = number1/number2\n",
    "except ValueError:\n",
    "    print(\"Invalid Input\")\n",
    "except ZeroDivisionError:\n",
    "    print(\"One number is 0\")"
   ]
  },
  {
   "cell_type": "code",
   "execution_count": null,
   "id": "529549fd-7e03-4645-81e5-3a07a4f1e85f",
   "metadata": {},
   "outputs": [],
   "source": []
  }
 ],
 "metadata": {
  "kernelspec": {
   "display_name": "anaconda-panel-2023.05-py310",
   "language": "python",
   "name": "conda-env-anaconda-panel-2023.05-py310-py"
  },
  "language_info": {
   "codemirror_mode": {
    "name": "ipython",
    "version": 3
   },
   "file_extension": ".py",
   "mimetype": "text/x-python",
   "name": "python",
   "nbconvert_exporter": "python",
   "pygments_lexer": "ipython3",
   "version": "3.11.4"
  }
 },
 "nbformat": 4,
 "nbformat_minor": 5
}
