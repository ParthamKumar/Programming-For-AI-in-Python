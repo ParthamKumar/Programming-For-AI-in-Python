{
 "cells": [
  {
   "cell_type": "code",
   "execution_count": 11,
   "id": "74889f31-2644-44dc-9454-effcca74d45c",
   "metadata": {},
   "outputs": [
    {
     "name": "stdout",
     "output_type": "stream",
     "text": [
      "Hello this is salman \n",
      "Query = Hello this is salman\n"
     ]
    }
   ],
   "source": [
    "#Q1\n",
    "a = [\"He\", \"th\", \"i\", \"sal\"]\n",
    "b = [\"llo\", \"is\", \"s\", \"man\"]\n",
    "x = zip(a,b)\n",
    "\n",
    "for i,j in x:\n",
    "    print(i+j,end=\" \")\n",
    "print(\"\\nQuery = Hello this is salman\")"
   ]
  },
  {
   "cell_type": "code",
   "execution_count": 21,
   "id": "0f7b13d0-1db0-4e19-9f0d-05d78471a626",
   "metadata": {},
   "outputs": [
    {
     "name": "stdout",
     "output_type": "stream",
     "text": [
      "Hello Dear\n",
      "Hello Sir\n",
      "take Dear\n",
      "take Sir\n"
     ]
    }
   ],
   "source": [
    "#Q2\n",
    "list1 = [\"Hello \", \"take \"]\n",
    "list2 = [\"Dear\", \"Sir\"]\n",
    "for i in range(len(list1)):\n",
    "    for j in range(len(list2)):\n",
    "        print(list1[i]+list2[j])"
   ]
  },
  {
   "cell_type": "code",
   "execution_count": 23,
   "id": "b6190bad-9d8b-4b43-88fd-dbdaf9df2d20",
   "metadata": {},
   "outputs": [
    {
     "name": "stdout",
     "output_type": "stream",
     "text": [
      "['Hello Dear', 'Hello Sir', 'take Dear', 'take Sir']\n"
     ]
    }
   ],
   "source": [
    "list1 = [\"Hello \", \"take \"]\n",
    "list2 = [\"Dear\", \"Sir\"]\n",
    "a = [x+y for x in list1 for y in list2 ]\n",
    "print(a)"
   ]
  },
  {
   "cell_type": "code",
   "execution_count": 43,
   "id": "b6014d08-ebda-403a-9416-0d2a9512e4b0",
   "metadata": {},
   "outputs": [
    {
     "name": "stdout",
     "output_type": "stream",
     "text": [
      "[7, 7, 7, 7]\n"
     ]
    }
   ],
   "source": [
    "#Q3\n",
    "a = [1,4,3,5]\n",
    "b = [6,3,4,2]\n",
    "\n",
    "for i in range(0,len(b)):\n",
    "    x = list(map(lambda c,d : c+d, a,b))\n",
    "print(x)"
   ]
  },
  {
   "cell_type": "code",
   "execution_count": 18,
   "id": "1a98e03b-eded-4380-b1ee-e9ae016e2b31",
   "metadata": {},
   "outputs": [
    {
     "name": "stdin",
     "output_type": "stream",
     "text": [
      "Enter the name of Student 1:  nick\n",
      "Enter the age of Student 1:  43\n",
      "Enter the name of Student 2:  Gunrey\n",
      "Enter the age of Student 2:  28\n",
      "Enter the name of Student 3:  Saegent\n",
      "Enter the age of Student 3:  40\n"
     ]
    },
    {
     "name": "stdout",
     "output_type": "stream",
     "text": [
      "Student with the second low age is \n",
      "Name: Saegent, Age: 40\n"
     ]
    }
   ],
   "source": [
    "data = []\n",
    "\n",
    "for i in range(3):\n",
    "    name = input(f\"Enter the name of Student {i+1}: \")\n",
    "    age = int(input(f\"Enter the age of Student {i+1}: \"))\n",
    "    data.append([name, age])\n",
    "\n",
    "ages = sorted(set(student[1] for student in data))\n",
    "secondlowage = ages[1]\n",
    "secondlowage_students = [student for student in data if student[1] == secondlowage]\n",
    "print(\"Student with the second low age is \")\n",
    "for student in secondlowage_students:\n",
    "    print(f\"Name: {student[0]}, Age: {student[1]}\")\n"
   ]
  },
  {
   "cell_type": "code",
   "execution_count": 71,
   "id": "b60bcc04-717b-4a38-a1f7-d0907333eb58",
   "metadata": {},
   "outputs": [
    {
     "name": "stdout",
     "output_type": "stream",
     "text": [
      "Student Name is Partham\n",
      "Age is 23\n",
      "Student Name is Kumar\n",
      "Age is 18\n"
     ]
    }
   ],
   "source": [
    "#Q5\n",
    "class student():\n",
    "    def __init__(self,name,age):\n",
    "        self.name= name\n",
    "        self.age=age\n",
    "        \n",
    "    def display(self):\n",
    "        print(\"Student Name is \"+self.name)\n",
    "        print(f\"Age is {self.age}\")\n",
    "\n",
    "s1=student(\"Partham\",23)\n",
    "s2=student(\"Kumar\",18)\n",
    "s1.display()\n",
    "s2.display()"
   ]
  },
  {
   "cell_type": "code",
   "execution_count": 6,
   "id": "7290f825-ecd5-4df4-8d9d-3a6c0b0f3314",
   "metadata": {},
   "outputs": [
    {
     "name": "stdout",
     "output_type": "stream",
     "text": [
      "Salary after tax  9800.0\n",
      "Salary after tax  9000.0\n"
     ]
    }
   ],
   "source": [
    "#Q6\n",
    "class Employee():\n",
    "    def __init__(self,name,salary,tax=2):\n",
    "        self.name=name\n",
    "        self.salary=salary\n",
    "        self.tax=tax\n",
    "        \n",
    "    def get_data():\n",
    "        self.name = input(\"Enter the name \")\n",
    "        self.salary=float(input(\"Enter the salary \"))\n",
    "        self.tax=float(input(\"Enter the tax percetage\"))\n",
    "        \n",
    "    def salaryAfterTax(self):\n",
    "        amount = (self.tax/100)*self.salary\n",
    "        after_tax = self.salary - amount\n",
    "        return after_tax\n",
    "    \n",
    "    def update_tax(self,newtax):\n",
    "        self.tax = newtax\n",
    "\n",
    "emp = Employee(\"Glinter\",10000,2)\n",
    "print(\"Salary after tax \", emp.salaryAfterTax())\n",
    "\n",
    "emp.update_tax(10)\n",
    "print(\"Salary after tax \", emp.salaryAfterTax())"
   ]
  },
  {
   "cell_type": "code",
   "execution_count": null,
   "id": "61b80480-3313-453a-a360-143dbe641afa",
   "metadata": {},
   "outputs": [],
   "source": []
  }
 ],
 "metadata": {
  "kernelspec": {
   "display_name": "anaconda-panel-2023.05-py310",
   "language": "python",
   "name": "conda-env-anaconda-panel-2023.05-py310-py"
  },
  "language_info": {
   "codemirror_mode": {
    "name": "ipython",
    "version": 3
   },
   "file_extension": ".py",
   "mimetype": "text/x-python",
   "name": "python",
   "nbconvert_exporter": "python",
   "pygments_lexer": "ipython3",
   "version": "3.11.4"
  }
 },
 "nbformat": 4,
 "nbformat_minor": 5
}
