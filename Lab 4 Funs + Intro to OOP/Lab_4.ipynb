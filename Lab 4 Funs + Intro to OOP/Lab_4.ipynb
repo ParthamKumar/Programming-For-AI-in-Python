{
  "cells": [
    {
      "cell_type": "markdown",
      "metadata": {
        "id": "joiaa69j2ep-"
      },
      "source": [
        "2 dimensional List elements can be accessed as :"
      ]
    },
    {
      "cell_type": "code",
      "execution_count": null,
      "metadata": {
        "id": "Kp2ezpHi2eqD",
        "outputId": "5a135bac-73be-4a8e-9c8d-7b16f1912bf5"
      },
      "outputs": [
        {
          "name": "stdout",
          "output_type": "stream",
          "text": [
            "2\n",
            "3\n",
            "7\n",
            "6\n",
            "7\n"
          ]
        }
      ],
      "source": [
        "# 2 dimensional list\n",
        "\n",
        "a = [[1,2],[3,4],[6,7]]\n",
        "\n",
        "print(a[0][1])   #it will print 2\n",
        "\n",
        "print(a[1][0])   #it will print 3\n",
        "\n",
        "print(a[2][1])   #it will print 7\n",
        "\n",
        "print(a[-1][0])  #it will print 6\n",
        "\n",
        "print(a[-1][1])  #it will print 7\n",
        "\n",
        "\n"
      ]
    },
    {
      "cell_type": "markdown",
      "metadata": {
        "id": "xS02CgEZ2eqF"
      },
      "source": [
        "# Zip Function\n",
        "\n",
        "The zip() function returns a zip object, which is an iterator of tuples where the first item in each passed iterator is paired together, and then the second item in each passed iterator are paired together etc."
      ]
    },
    {
      "cell_type": "code",
      "execution_count": null,
      "metadata": {
        "id": "FYO9xRda2eqF",
        "outputId": "582d788a-b734-461d-bb5f-6b37817d601a"
      },
      "outputs": [
        {
          "name": "stdout",
          "output_type": "stream",
          "text": [
            "(('John', 'Jenny'), ('Charles', 'Christy'), ('Mike', 'Monica'))\n"
          ]
        }
      ],
      "source": [
        "#Zip function in python\n",
        "\n",
        "a = [\"John\", \"Charles\", \"Mike\"]\n",
        "b = [\"Jenny\", \"Christy\", \"Monica\"]\n",
        "\n",
        "x = zip(a, b)\n",
        "\n",
        "print(tuple(x))  #return tuple of tuples\n",
        "\n"
      ]
    },
    {
      "cell_type": "code",
      "execution_count": null,
      "metadata": {
        "id": "f1tzfLo92eqG",
        "outputId": "e703dd74-567b-4304-cef9-b5bd4d26c0e1"
      },
      "outputs": [
        {
          "name": "stdout",
          "output_type": "stream",
          "text": [
            "[('John', 'Jenny'), ('Charles', 'Christy'), ('Mike', 'Monica')]\n"
          ]
        }
      ],
      "source": [
        "#Zip function in python\n",
        "\n",
        "a = [\"John\", \"Charles\", \"Mike\"]\n",
        "b = [\"Jenny\", \"Christy\", \"Monica\"]\n",
        "\n",
        "x = zip(a, b)\n",
        "\n",
        "print(list(x))   #return list of tuples"
      ]
    },
    {
      "cell_type": "code",
      "execution_count": null,
      "metadata": {
        "id": "2puDr7RX2eqG",
        "outputId": "b3ce1485-19e5-4121-8053-bc32a871d8c9"
      },
      "outputs": [
        {
          "name": "stdout",
          "output_type": "stream",
          "text": [
            "{'John': 'Jenny', 'Charles': 'Christy', 'Mike': 'Monica'}\n"
          ]
        }
      ],
      "source": [
        "#Zip function in python\n",
        "\n",
        "a = [\"John\", \"Charles\", \"Mike\"]\n",
        "b = [\"Jenny\", \"Christy\", \"Monica\"]\n",
        "\n",
        "x = zip(a, b)\n",
        "\n",
        "print(dict(x))  #return dictionary with \"a\" list as keys and \"b\" list as values"
      ]
    },
    {
      "cell_type": "code",
      "execution_count": null,
      "metadata": {
        "id": "rjd5d0B-2eqH",
        "outputId": "ddeefed0-7e89-4386-d7f5-6f3590c88253"
      },
      "outputs": [
        {
          "name": "stdout",
          "output_type": "stream",
          "text": [
            "John and Jenny\n",
            "Charles and Christy\n",
            "Mike and Monica\n"
          ]
        }
      ],
      "source": [
        "a = [\"John\", \"Charles\", \"Mike\"]\n",
        "b = [\"Jenny\", \"Christy\", \"Monica\"]\n",
        "\n",
        "x = zip(a, b)\n",
        "\n",
        "for i,j in x:\n",
        "    print(i,\"and\",j)\n"
      ]
    },
    {
      "cell_type": "markdown",
      "metadata": {
        "id": "3V3b7ieQ2eqH"
      },
      "source": [
        "# Enumerate function\n",
        "The enumerate() method adds a counter to an iterable and returns it."
      ]
    },
    {
      "cell_type": "code",
      "execution_count": null,
      "metadata": {
        "id": "-4lyDNuw2eqI",
        "outputId": "f6fbc825-09aa-42ca-ba42-56b3a42a80ff"
      },
      "outputs": [
        {
          "name": "stdout",
          "output_type": "stream",
          "text": [
            "<enumerate object at 0x000001A9A4D17640>\n",
            "[(0, 'Python'), (1, 'Java'), (2, 'JavaScript')]\n"
          ]
        }
      ],
      "source": [
        "languages = ['Python', 'Java', 'JavaScript']\n",
        "\n",
        "enumerate_prime = enumerate(languages)\n",
        "\n",
        "print(enumerate_prime)\n",
        "\n",
        "# convert enumerate object to list\n",
        "print((list(enumerate_prime)))"
      ]
    },
    {
      "cell_type": "code",
      "execution_count": null,
      "metadata": {
        "id": "k-TabHYI2eqI",
        "outputId": "d7685d55-aff3-4ed9-a7e5-d75fdf76f136"
      },
      "outputs": [
        {
          "name": "stdout",
          "output_type": "stream",
          "text": [
            "<class 'enumerate'>\n",
            "[(0, 'bread'), (1, 'milk'), (2, 'butter')]\n",
            "[(10, 'bread'), (11, 'milk'), (12, 'butter')]\n"
          ]
        }
      ],
      "source": [
        "grocery = ['bread', 'milk', 'butter']\n",
        "enumerateGrocery = enumerate(grocery)\n",
        "\n",
        "print(type(enumerateGrocery))\n",
        "\n",
        "# converting to list\n",
        "print(list(enumerateGrocery))\n",
        "\n",
        "# changing the default counter\n",
        "enumerateGrocery = enumerate(grocery, 10)\n",
        "print(list(enumerateGrocery))"
      ]
    },
    {
      "cell_type": "code",
      "execution_count": null,
      "metadata": {
        "id": "epL7-G2q2eqJ",
        "outputId": "6a0b0661-d78f-48f7-cc99-e7447060c250"
      },
      "outputs": [
        {
          "name": "stdout",
          "output_type": "stream",
          "text": [
            "0 bread\n",
            "1 milk\n",
            "2 butter\n"
          ]
        }
      ],
      "source": [
        "grocery = ['bread', 'milk', 'butter']\n",
        "enumerateGrocery = enumerate(grocery)\n",
        "\n",
        "for i,j in enumerate(grocery):\n",
        "    print(i,j)"
      ]
    },
    {
      "cell_type": "markdown",
      "metadata": {
        "id": "1hr3zkD42eqJ"
      },
      "source": [
        "# Lambda Function"
      ]
    },
    {
      "cell_type": "markdown",
      "metadata": {
        "id": "o8LJTYw52eqJ"
      },
      "source": [
        "In Python, an anonymous function is a function that is defined without a name. While normal functions are defined using the def keyword in Python, anonymous functions are defined using the lambda keyword. Hence, anonymous functions are also called lambda functions\n",
        "\n",
        "<b>Syntax  </b>\n",
        "lambda arguments: expression\n",
        "\n",
        "Lambda functions can have any number of arguments but only one expression. The expression is evaluated and returned. Lambda functions can be used wherever function objects are required.\n",
        "\n",
        "Lambda functions (nameless functions) reduce the number of lines of code when compared to normal python function defined using def keyword. ... They are generally used when a function is needed temporarily for a short period of time, often to be used inside another function such as filter , map etc..\n",
        "\n"
      ]
    },
    {
      "cell_type": "code",
      "execution_count": null,
      "metadata": {
        "id": "cLC3jPZM2eqJ",
        "outputId": "a39b0950-4ec9-49c3-9298-ccaa2e7a0de8"
      },
      "outputs": [
        {
          "name": "stdout",
          "output_type": "stream",
          "text": [
            "15\n"
          ]
        }
      ],
      "source": [
        "#add 10 to the argument and return result\n",
        "x = lambda a : a + 10\n",
        "print(x(5))"
      ]
    },
    {
      "cell_type": "code",
      "execution_count": null,
      "metadata": {
        "id": "uXKydILF2eqK",
        "outputId": "b5bd7da8-4579-46cd-f534-e4dab69c1c23"
      },
      "outputs": [
        {
          "name": "stdout",
          "output_type": "stream",
          "text": [
            "30\n"
          ]
        }
      ],
      "source": [
        "x = lambda a, b : a * b\n",
        "print(x(5, 6))"
      ]
    },
    {
      "cell_type": "code",
      "execution_count": null,
      "metadata": {
        "id": "6wOKpHTa2eqK",
        "outputId": "daaa4b89-c8a1-47e2-a707-8e40861826f7"
      },
      "outputs": [
        {
          "name": "stdout",
          "output_type": "stream",
          "text": [
            "13\n"
          ]
        }
      ],
      "source": [
        "x = lambda a, b, c : a + b + c\n",
        "print(x(5, 6, 2))"
      ]
    },
    {
      "cell_type": "markdown",
      "metadata": {
        "id": "cwfuMULW2eqK"
      },
      "source": [
        "Lambda function is same as other functions but with out a name.\n",
        "\n",
        "double = lambda x: x * 2\n",
        "\n",
        "<b>is same as</b>\n",
        "\n",
        "def double(x):\n",
        "    return x * 2"
      ]
    },
    {
      "cell_type": "markdown",
      "metadata": {
        "id": "icii5OHE2eqK"
      },
      "source": [
        "Lambda functions are normally used along with other functions like map(), filter(), etc"
      ]
    },
    {
      "cell_type": "code",
      "execution_count": null,
      "metadata": {
        "id": "cizmh_nS2eqL",
        "outputId": "87681768-dceb-4da8-ba4b-cbcd7b0d18f9"
      },
      "outputs": [
        {
          "name": "stdout",
          "output_type": "stream",
          "text": [
            "[4, 6, 8, 12]\n"
          ]
        }
      ],
      "source": [
        "# Program to filter out only the even items from a list. Filter takes in function and list.\n",
        "# Filter applies that function on list. Filter actually checks specific conditions\n",
        "\n",
        "my_list = [1, 5, 4, 6, 8, 11, 3, 12]\n",
        "\n",
        "new_list = list(filter(lambda x: (x%2 == 0) , my_list))\n",
        "\n",
        "print(new_list)"
      ]
    },
    {
      "cell_type": "code",
      "execution_count": null,
      "metadata": {
        "id": "n3wcN9vk2eqL",
        "outputId": "9c7932d0-d50b-40c3-b0cf-3e386ba62f59"
      },
      "outputs": [
        {
          "name": "stdout",
          "output_type": "stream",
          "text": [
            "[2, 10, 8, 12, 16, 22, 6, 24]\n"
          ]
        }
      ],
      "source": [
        "# Program to double each item in a list using map(). Map() actually perform operations on list\n",
        "\n",
        "my_list = [1, 5, 4, 6, 8, 11, 3, 12]\n",
        "\n",
        "new_list = list(map(lambda x: x * 2 , my_list))\n",
        "\n",
        "print(new_list)"
      ]
    },
    {
      "cell_type": "code",
      "execution_count": null,
      "metadata": {
        "id": "gwguCax12eqL",
        "outputId": "705e79bd-7e9b-42c2-b504-055a8a29a42e"
      },
      "outputs": [
        {
          "data": {
            "text/plain": [
              "[5, 6, 6]"
            ]
          },
          "execution_count": 51,
          "metadata": {},
          "output_type": "execute_result"
        }
      ],
      "source": [
        "# map function with out lambda function\n",
        "\n",
        "def myfunc(n):\n",
        "  return len(n)\n",
        "\n",
        "x = map(myfunc, ('apple', 'banana', 'cherry'))\n",
        "list(x)"
      ]
    },
    {
      "cell_type": "code",
      "execution_count": null,
      "metadata": {
        "id": "D5UZHuOC2eqL",
        "outputId": "cdfba005-70ee-4ae3-e8db-74ee17be85de"
      },
      "outputs": [
        {
          "name": "stdout",
          "output_type": "stream",
          "text": [
            "[('apple', '10', '200'), ('baby', '20', '300'), ('candy', '30', '100')]\n"
          ]
        }
      ],
      "source": [
        "# using lambda to sort based on second element of list which is x[1] . So you may sort based on any element of list.\n",
        "\n",
        "a = [('candy','30','100'), ('apple','10','200'), ('baby','20','300')]\n",
        "b = sorted(a,key=lambda x:x[1])\n",
        "print(b)"
      ]
    },
    {
      "cell_type": "markdown",
      "metadata": {
        "id": "AhKQWgM72eqL"
      },
      "source": [
        "### Other important functions :\n",
        "\n",
        "abs() returns the absolute value of a numeric value (e.g. integer or float)\n",
        "\n",
        "round() returns the rounded value of a numeric value\n",
        "\n",
        "min() returns minimum value from list\n",
        "\n",
        "max() returns maximum value from list\n",
        "\n",
        "sorted() returns in sorted order\n",
        "\n",
        "sum() returns sum of elements of list\n",
        "\n",
        "len() returns length"
      ]
    },
    {
      "cell_type": "markdown",
      "metadata": {
        "id": "zlmsgMfA2eqM"
      },
      "source": [
        "# Regular Expressions (Regex)"
      ]
    },
    {
      "cell_type": "markdown",
      "metadata": {
        "id": "R1FBIyyH2eqM"
      },
      "source": [
        "A Regular Expression (RegEx) is a sequence of characters that defines a search pattern. For example, RegEx can be used to check if a string contains the specified search pattern.\n",
        "Python has a built-in package called <b>re</b>, which can be used to work with Regular Expressions.\n",
        "\n",
        "import re\n",
        "\n",
        "It is a very wide library with different syntaxes to search for different types of strings. We will take its overview only.\n",
        "\n",
        "It has following functions:\n",
        "\n",
        "<b>findall</b>\n",
        "Returns a list containing all matches\n",
        "\n",
        "<b>search</b>\n",
        "Returns a Match object if there is a match anywhere in the string\n",
        "\n",
        "<b>split</b>\n",
        "Returns a list where the string has been split at each match\n",
        "\n",
        "<b>sub</b>\n",
        "Replaces one or many matches with a string\n",
        "\n"
      ]
    },
    {
      "cell_type": "code",
      "execution_count": null,
      "metadata": {
        "id": "ngfrzOo52eqM",
        "outputId": "75ea74fe-ab3c-4cf1-db6c-c9d230eacd11"
      },
      "outputs": [
        {
          "name": "stdout",
          "output_type": "stream",
          "text": [
            "[]\n"
          ]
        }
      ],
      "source": [
        "import re\n",
        "\n",
        "txt = \"The rain in Spain\"\n",
        "x = re.findall(\"Portugal\", txt)\n",
        "print(x)"
      ]
    },
    {
      "cell_type": "code",
      "execution_count": null,
      "metadata": {
        "id": "77XS6Nsz2eqM",
        "outputId": "b4534796-efbe-4f5e-f4a6-ef582c72f0bf"
      },
      "outputs": [
        {
          "name": "stdout",
          "output_type": "stream",
          "text": [
            "['hello']\n"
          ]
        }
      ],
      "source": [
        "# The \".\" is used for \"any character\"\n",
        "import re\n",
        "\n",
        "txt = \"hello world\"\n",
        "d =  \"The rain in Spain\"\n",
        "#Search for a sequence that starts with \"he\", followed by two (any) characters, and an \"o\":\n",
        "\n",
        "x = re.findall(\"he..o\", txt)\n",
        "print(x)\n"
      ]
    },
    {
      "cell_type": "code",
      "execution_count": null,
      "metadata": {
        "id": "Ro6xtaZT2eqM",
        "outputId": "7e08039a-e435-479a-e8f0-32b95ad6662f"
      },
      "outputs": [
        {
          "name": "stdout",
          "output_type": "stream",
          "text": [
            "findall will return ['The rain in Spain']\n",
            "search will return position  <re.Match object; span=(0, 17), match='The rain in Spain'>\n"
          ]
        }
      ],
      "source": [
        "# the \"*\" means \"starts with\" and \"$\" means \"end with\".\n",
        "\n",
        "import re\n",
        "\n",
        "txt = \"The rain in Spain\"\n",
        "x = re.findall(\"^The.*Spain$\", txt)\n",
        "print(\"findall will return\", x)\n",
        "\n",
        "txt = \"The rain in Spain\"\n",
        "x = re.search(\"^The.*Spain$\", txt)\n",
        "print(\"search will return position \", x)\n"
      ]
    },
    {
      "cell_type": "code",
      "execution_count": null,
      "metadata": {
        "id": "KaM9ojGm2eqM",
        "outputId": "bac58fde-589c-4a84-f5e3-e745141a2368"
      },
      "outputs": [
        {
          "name": "stdout",
          "output_type": "stream",
          "text": [
            "The first white-space character is located in position: 4\n"
          ]
        }
      ],
      "source": [
        "# \\s is for white spaces\n",
        "\n",
        "import re\n",
        "\n",
        "txt = \"The rain in Spain\"\n",
        "x = re.search(\"\\s\", txt)\n",
        "\n",
        "print(\"The first white-space character is located in position:\", x.start())"
      ]
    },
    {
      "cell_type": "code",
      "execution_count": null,
      "metadata": {
        "id": "01m-kn_m2eqM",
        "outputId": "42d05020-fb1a-4a4c-bd57-fda1aac337ff"
      },
      "outputs": [
        {
          "name": "stdout",
          "output_type": "stream",
          "text": [
            "None\n"
          ]
        }
      ],
      "source": [
        "import re\n",
        "\n",
        "txt = \"The rain in Spain\"\n",
        "x = re.search(\"Portugal\", txt)\n",
        "print(x)"
      ]
    },
    {
      "cell_type": "code",
      "execution_count": null,
      "metadata": {
        "id": "7gP-JK7A2eqN",
        "outputId": "25dd0036-3c71-4f06-ba6a-517d113f31e4"
      },
      "outputs": [
        {
          "name": "stdout",
          "output_type": "stream",
          "text": [
            "['The', 'rain', 'in', 'Spain']\n"
          ]
        }
      ],
      "source": [
        "import re\n",
        "\n",
        "txt = \"The rain in Spain\"\n",
        "x = re.split(\"\\s\", txt)\n",
        "print(x)"
      ]
    },
    {
      "cell_type": "code",
      "execution_count": null,
      "metadata": {
        "id": "uNmp03xc2eqN",
        "outputId": "edd7ecd9-8848-45a7-eef0-83c036dfb466"
      },
      "outputs": [
        {
          "name": "stdout",
          "output_type": "stream",
          "text": [
            "The9rain9in9Spain\n"
          ]
        }
      ],
      "source": [
        "#replaces white spaces with 9\n",
        "import re\n",
        "\n",
        "txt = \"The rain in Spain\"\n",
        "x = re.sub(\"\\s\", \"9\", txt)\n",
        "print(x)"
      ]
    },
    {
      "cell_type": "code",
      "execution_count": null,
      "metadata": {
        "id": "uxemsZHC2eqN",
        "outputId": "6a537247-d1b4-44e6-bac3-654e25daf79e"
      },
      "outputs": [
        {
          "name": "stdout",
          "output_type": "stream",
          "text": [
            "The9rain9in Spain\n"
          ]
        }
      ],
      "source": [
        "# it will replace white spaces with 9 only 2 times as argument 2 is passed\n",
        "\n",
        "import re\n",
        "\n",
        "txt = \"The rain in Spain\"\n",
        "x = re.sub(\"\\s\", \"9\", txt, 2)\n",
        "print(x)"
      ]
    },
    {
      "cell_type": "markdown",
      "metadata": {
        "id": "RdTlS_Vv2eqN"
      },
      "source": [
        "# Intro : Object Oriented Programming"
      ]
    },
    {
      "cell_type": "code",
      "execution_count": null,
      "metadata": {
        "id": "LXonukSs2eqN",
        "outputId": "c3dd5b0d-125d-4abc-95f1-3d1ec3fdbe8d"
      },
      "outputs": [
        {
          "name": "stdout",
          "output_type": "stream",
          "text": [
            "Dog init\n",
            "Name  willie\n",
            "Age  6\n",
            "--------------------\n",
            "Dog is barking\n"
          ]
        }
      ],
      "source": [
        "class Dog():\n",
        "    \"\"\"A simple attempt to model a dog.\"\"\"\n",
        "\n",
        "    def __init__(self,name,age):    #this is a constructor  (__init__ is for constructor while \"self\" takes reference of object)\n",
        "        print(\"Dog init\")\n",
        "        print(\"Name \",name)\n",
        "        print(\"Age \", age)\n",
        "\n",
        "\n",
        "    def bark(self):\n",
        "        print(\"Dog is barking\")\n",
        "\n",
        "\n",
        "obj = Dog(\"willie\",6)\n",
        "print(\"--------------------\")\n",
        "obj.bark()\n"
      ]
    },
    {
      "cell_type": "code",
      "execution_count": null,
      "metadata": {
        "id": "RejdFmfJ2eqO",
        "outputId": "dfcb0ee1-0882-478c-878c-5a7a2afc7baa"
      },
      "outputs": [
        {
          "name": "stdout",
          "output_type": "stream",
          "text": [
            "Dog init\n",
            "Name  willie\n",
            "Age  6\n",
            "willie\n",
            "6\n",
            "10\n"
          ]
        }
      ],
      "source": [
        "class Dog():\n",
        "    \"\"\"A simple attempt to model a dog.\"\"\"\n",
        "\n",
        "    def __init__(self,name,age):\n",
        "        print(\"Dog init\")\n",
        "        print(\"Name \",name)\n",
        "        print(\"Age \", age)\n",
        "        self.name = name\n",
        "        self.age = age\n",
        "\n",
        "    def bark(self):\n",
        "        print(\"Dog is barking\")\n",
        "\n",
        "e = Dog(\"willie\",6)\n",
        "\n",
        "print(e.name)\n",
        "print(e.age)\n",
        "e.age = 10\n",
        "print(e.age)\n"
      ]
    },
    {
      "cell_type": "code",
      "execution_count": null,
      "metadata": {
        "id": "QAZCQrj-2eqO",
        "outputId": "1016cef1-cdff-417f-cf06-571e36365e55"
      },
      "outputs": [
        {
          "name": "stdout",
          "output_type": "stream",
          "text": [
            "Dog init\n",
            "Name  willie\n",
            "Age  6\n",
            "willie is barking\n"
          ]
        }
      ],
      "source": [
        "class Dog():\n",
        "    \"\"\"A simple attempt to model a dog.\"\"\"\n",
        "\n",
        "    def __init__(self,name,age):\n",
        "        print(\"Dog init\")\n",
        "        print(\"Name \",name)\n",
        "        print(\"Age \", age)\n",
        "        self.name = name\n",
        "        self.age = age\n",
        "\n",
        "    def bark(self):\n",
        "        print(self.name +\" is barking\")\n",
        "\n",
        "e = Dog(\"willie\",6)\n",
        "e.bark()\n",
        "\n"
      ]
    },
    {
      "cell_type": "code",
      "execution_count": null,
      "metadata": {
        "id": "Y7QiC_a_2eqO",
        "outputId": "7f5437f4-7919-4cab-dbb7-e8681a1f4699"
      },
      "outputs": [
        {
          "name": "stdout",
          "output_type": "stream",
          "text": [
            "Dog init\n",
            "Name  willie\n",
            "Age  6\n",
            "Dog init\n",
            "Name  lucy\n",
            "Age  3\n",
            "willie is barking\n",
            "lucy is barking\n"
          ]
        }
      ],
      "source": [
        "class Dog():\n",
        "    \"\"\"A simple attempt to model a dog.\"\"\"\n",
        "\n",
        "    def __init__(self,name,age):\n",
        "        print(\"Dog init\")\n",
        "        print(\"Name \",name)\n",
        "        print(\"Age \", age)\n",
        "        self.name = name\n",
        "        self.age = age\n",
        "\n",
        "    def bark(self):\n",
        "        print(self.name +\" is barking\")\n",
        "\n",
        "myDog = Dog(\"willie\",6)\n",
        "yourDog = Dog(\"lucy\",3)\n",
        "\n",
        "myDog.bark()\n",
        "yourDog.bark()\n"
      ]
    },
    {
      "cell_type": "code",
      "execution_count": null,
      "metadata": {
        "id": "0izS3jdx2eqO",
        "outputId": "9f858a09-1ad9-40ac-dd23-63a18aaad955"
      },
      "outputs": [
        {
          "name": "stdout",
          "output_type": "stream",
          "text": [
            "Dog init\n",
            "Name  willie\n",
            "Age  6\n",
            "Dog init\n",
            "Name  lucy\n",
            "Age  3\n",
            "willie is barking\n",
            "lucy is barking\n",
            "2\n"
          ]
        }
      ],
      "source": [
        "class Dog():\n",
        "    \"\"\"A simple attempt to model a dog.\"\"\"\n",
        "    total = 0\n",
        "    def __init__(self,name,age):\n",
        "        print(\"Dog init\")\n",
        "        print(\"Name \",name)\n",
        "        print(\"Age \", age)\n",
        "        self.name = name\n",
        "        self.age = age\n",
        "        Dog.total = Dog.total+1\n",
        "\n",
        "    def bark(self):\n",
        "        print(self.name +\" is barking\")\n",
        "\n",
        "myDog = Dog(\"willie\",6)\n",
        "yourDog = Dog(\"lucy\",3)\n",
        "\n",
        "myDog.bark()\n",
        "yourDog.bark()\n",
        "print(Dog.total)\n",
        "\n"
      ]
    },
    {
      "cell_type": "code",
      "execution_count": null,
      "metadata": {
        "id": "yzyFAz5A2eqT",
        "outputId": "8724536e-778c-444a-db45-0a0a23c5018e"
      },
      "outputs": [
        {
          "name": "stdout",
          "output_type": "stream",
          "text": [
            "Dog init\n",
            "Name  willie\n",
            "Age  6\n",
            "Dog init\n",
            "Name  lucy\n",
            "Age  3\n",
            "willie is barking\n",
            "lucy is barking\n",
            "2\n"
          ]
        }
      ],
      "source": [
        "class Dog():\n",
        "    \"\"\"A simple attempt to model a dog.\"\"\"\n",
        "    total = 0\n",
        "    def __init__(a,name,age):\n",
        "        print(\"Dog init\")\n",
        "        print(\"Name \",name)\n",
        "        print(\"Age \", age)\n",
        "        a.name = name\n",
        "        a.age = age\n",
        "        Dog.total = Dog.total+1\n",
        "\n",
        "    def bark(b):\n",
        "        print(b.name +\" is barking\")\n",
        "\n",
        "myDog = Dog(\"willie\",6)\n",
        "yourDog = Dog(\"lucy\",3)\n",
        "\n",
        "myDog.bark()\n",
        "yourDog.bark()\n",
        "print(Dog.total)\n",
        "\n",
        "\n"
      ]
    },
    {
      "cell_type": "code",
      "execution_count": null,
      "metadata": {
        "id": "sLiZOKmO2eqT",
        "outputId": "4160f7f7-7de4-4093-bbac-d8bb93668534"
      },
      "outputs": [
        {
          "name": "stdout",
          "output_type": "stream",
          "text": [
            "2016 audi a4\n"
          ]
        }
      ],
      "source": [
        "class Car():\n",
        "\n",
        "    def __init__(self,make,model,year):\n",
        "        self.make = make\n",
        "        self.model = model\n",
        "        self.year = year\n",
        "\n",
        "    def get_descriptive_name(self):\n",
        "        long_name = str(self.year)+ ' '+self.make + ' ' + self.model\n",
        "        return long_name\n",
        "\n",
        "\n",
        "c = Car('audi', 'a4', 2016)\n",
        "name = c.get_descriptive_name()\n",
        "print(name)\n",
        "\n",
        "\n"
      ]
    },
    {
      "cell_type": "code",
      "execution_count": null,
      "metadata": {
        "id": "9659VFs82eqT",
        "outputId": "918483e9-9bd1-4239-e553-7b04507d55f5"
      },
      "outputs": [
        {
          "name": "stdout",
          "output_type": "stream",
          "text": [
            "2016 audi a4\n"
          ]
        }
      ],
      "source": [
        "class Car():\n",
        "\n",
        "    def __init__(self,make,model,year):\n",
        "        self.make = make\n",
        "        self.model = model\n",
        "        self.year = year\n",
        "        self.odometer_reading = 0\n",
        "\n",
        "\n",
        "    def get_descriptive_name(self):\n",
        "        long_name = str(self.year)+ ' '+self.make + ' ' + self.model\n",
        "        return long_name\n",
        "\n",
        "\n",
        "c = Car('audi', 'a4', 2016)\n",
        "name = c.get_descriptive_name()\n",
        "print(name)\n"
      ]
    },
    {
      "cell_type": "code",
      "execution_count": null,
      "metadata": {
        "id": "0MZxHZXE2eqU",
        "outputId": "9a2f6ec5-27cf-4ff6-805d-5cede4edac8b"
      },
      "outputs": [
        {
          "name": "stdout",
          "output_type": "stream",
          "text": [
            "5\n",
            "400000\n"
          ]
        }
      ],
      "source": [
        "class Car():\n",
        "\n",
        "    def __init__(self,make,model,year):\n",
        "        self.make = make\n",
        "        self.model = model\n",
        "        self.year = year\n",
        "        self.__odometer_reading = 5\n",
        "\n",
        "\n",
        "    def get_descriptive_name(self):\n",
        "        long_name = str(self.year)+ ' '+self.make + ' ' + self.model + ' '+ str(self.__odometer_reading)\n",
        "        return long_name\n",
        "\n",
        "    def update_odometer(self, val):\n",
        "        self.__odometer_reading = val\n",
        "\n",
        "    def get_odometer(self):\n",
        "        return self.__odometer_reading\n",
        "\n",
        "\n",
        "c = Car('audi', 'a4', 2016)\n",
        "\n",
        "print(c.get_odometer())\n",
        "c.update_odometer(400000)\n",
        "print(c.get_odometer())\n",
        "\n",
        "\n"
      ]
    },
    {
      "cell_type": "code",
      "execution_count": null,
      "metadata": {
        "id": "wG4CwDqj2eqU",
        "outputId": "3681a9b4-b64e-431d-e751-45cca16d31cb"
      },
      "outputs": [
        {
          "ename": "AttributeError",
          "evalue": "'Car' object has no attribute '__start'",
          "output_type": "error",
          "traceback": [
            "\u001b[1;31m---------------------------------------------------------------------------\u001b[0m",
            "\u001b[1;31mAttributeError\u001b[0m                            Traceback (most recent call last)",
            "\u001b[1;32m<ipython-input-129-be46d2a9c878>\u001b[0m in \u001b[0;36m<module>\u001b[1;34m\u001b[0m\n\u001b[0;32m     26\u001b[0m \u001b[0mc\u001b[0m \u001b[1;33m=\u001b[0m \u001b[0mCar\u001b[0m\u001b[1;33m(\u001b[0m\u001b[1;34m'audi'\u001b[0m\u001b[1;33m,\u001b[0m \u001b[1;34m'a4'\u001b[0m\u001b[1;33m,\u001b[0m \u001b[1;36m2016\u001b[0m\u001b[1;33m)\u001b[0m\u001b[1;33m\u001b[0m\u001b[1;33m\u001b[0m\u001b[0m\n\u001b[0;32m     27\u001b[0m \u001b[1;33m\u001b[0m\u001b[0m\n\u001b[1;32m---> 28\u001b[1;33m \u001b[0mc\u001b[0m\u001b[1;33m.\u001b[0m\u001b[0m__start\u001b[0m\u001b[1;33m(\u001b[0m\u001b[1;33m)\u001b[0m\u001b[1;33m\u001b[0m\u001b[1;33m\u001b[0m\u001b[0m\n\u001b[0m",
            "\u001b[1;31mAttributeError\u001b[0m: 'Car' object has no attribute '__start'"
          ]
        }
      ],
      "source": [
        "# __ is not allowed at the start of name of any function except constructor __init\n",
        "\n",
        "class Car():\n",
        "\n",
        "    def __init__(self,make,model,year):\n",
        "        self.make = make\n",
        "        self.model = model\n",
        "        self.year = year\n",
        "        self.__odometer_reading = 5\n",
        "\n",
        "\n",
        "    def get_descriptive_name(self):\n",
        "        long_name = str(self.year)+ ' '+self.make + ' ' + self.model + ' '+ str(self.__odometer_reading)\n",
        "        return long_name\n",
        "\n",
        "    def update_odometer(self, val):\n",
        "        self.__odometer_reading = val\n",
        "\n",
        "    def get_odometer(self):\n",
        "        return self.__odometer_reading\n",
        "\n",
        "    def __start(self):\n",
        "        print(\"Car started\")\n",
        "\n",
        "\n",
        "c = Car('audi', 'a4', 2016)\n",
        "\n",
        "c.__start()\n"
      ]
    },
    {
      "cell_type": "markdown",
      "metadata": {
        "id": "_jQpnO4A2eqU"
      },
      "source": [
        "# TASKS"
      ]
    },
    {
      "cell_type": "markdown",
      "metadata": {
        "id": "Q7HjKPk12eqU"
      },
      "source": [
        "<b>Q1)</b> Suppose a = [\"He\", \"th\", \"i\", \"sal\"]\n",
        "and b = [\"llo\", \"is\", \"s\", \"man\"]\n",
        "\n",
        "You need to print this :\n",
        "['Hello', 'this', 'is', 'salman']\n",
        "\n",
        "After attempting this question, make sure you may also write this query in one line.\n",
        "<br/>"
      ]
    },
    {
      "cell_type": "markdown",
      "metadata": {
        "id": "cJqMldhD2eqU"
      },
      "source": [
        "<b>Q2)</b> Two lists are given : list1 = [\"Hello \", \"take \"] , list2 = [\"Dear\", \"Sir\"]\n",
        "\n",
        "Concatenate these two lists like this :\n",
        "\n",
        "['Hello Dear', 'Hello Sir', 'take Dear', 'take Sir']"
      ]
    },
    {
      "cell_type": "markdown",
      "metadata": {
        "id": "Uk2M8wbj2eqU"
      },
      "source": [
        "<b>Q3)</b> Take two lists, a = [1,4,3,5] and b = [6,3,4,2]\n",
        "\n",
        "Add these two lists together using lambda and map function\n",
        "<br/>"
      ]
    },
    {
      "cell_type": "markdown",
      "metadata": {
        "id": "bB2yfoCk2eqV"
      },
      "source": [
        "<b>Q4)</b> Take input from user one by one name and ages of three students. Use lambda function to return name and age of student having second lowest age. You may use 2 dimensional list to store name and age pair of each student"
      ]
    },
    {
      "cell_type": "markdown",
      "metadata": {
        "id": "QgG8flxz2eqV"
      },
      "source": [
        "<b>Q5)</b>  Make a class \"Student\"and make a function \"Print_biodata\" inside it. Pass name and age of student to constructor. Now access \"Print_biodata\" function using object to print name and age of student."
      ]
    },
    {
      "cell_type": "markdown",
      "metadata": {
        "id": "1qkKTJcA2eqV"
      },
      "source": [
        "<b>Q6)</b> Make a class \"Employee\". Create \"get_data\" function inside this class that will take input from user employee name ,monthly salary and percentage of tax. Create another function \"Salary_after_tax\" that will deduct 2% tax on monthly salary and return remaining salary. There will be another function of \"update_tax_percentage\" inside this class that will change tax percentage (for example initially if it was taken 2% then you may update it to 3%). Now again salary will be calculated based on this new tax percentage."
      ]
    }
  ],
  "metadata": {
    "kernelspec": {
      "display_name": "Python 3",
      "language": "python",
      "name": "python3"
    },
    "language_info": {
      "codemirror_mode": {
        "name": "ipython",
        "version": 3
      },
      "file_extension": ".py",
      "mimetype": "text/x-python",
      "name": "python",
      "nbconvert_exporter": "python",
      "pygments_lexer": "ipython3",
      "version": "3.8.5"
    },
    "colab": {
      "provenance": []
    }
  },
  "nbformat": 4,
  "nbformat_minor": 0
}