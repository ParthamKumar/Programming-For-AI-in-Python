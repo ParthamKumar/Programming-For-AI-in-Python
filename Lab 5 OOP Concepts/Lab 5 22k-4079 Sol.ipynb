{
 "cells": [
  {
   "cell_type": "code",
   "execution_count": 60,
   "id": "0da573ef-3ab4-4b23-bd84-c0e4d337075b",
   "metadata": {},
   "outputs": [
    {
     "name": "stdout",
     "output_type": "stream",
     "text": [
      "Vehicle Charge is 500\n",
      "Bus charge is  550\n"
     ]
    }
   ],
   "source": [
    "#Q1\n",
    "class vehicle:\n",
    "    def __init__(self,capacity):\n",
    "        self.charge = capacity * 100\n",
    "    def display(self):\n",
    "        print(f\"Vehicle Charge is\",self.charge)\n",
    "        \n",
    "class bus(vehicle):\n",
    "    def __init__(self,capacity):\n",
    "        self.charge = capacity*110\n",
    "    def display(self):\n",
    "        print(f\"Bus charge is \",self.charge)\n",
    "        \n",
    "v = vehicle(5)\n",
    "v.display()\n",
    "b = bus(5)\n",
    "b.display()\n"
   ]
  },
  {
   "cell_type": "code",
   "execution_count": 92,
   "id": "2614ee2d-90a1-4dad-8d80-38b01befaf91",
   "metadata": {},
   "outputs": [
    {
     "name": "stdout",
     "output_type": "stream",
     "text": [
      "Area of circle is  28.26\n",
      "Area of triangle is  25.0\n",
      "Area of rectangle is  21\n"
     ]
    }
   ],
   "source": [
    "from abc import ABC, abstractmethod\n",
    "\n",
    "class Shape(ABC):\n",
    "    @abstractmethod\n",
    "    def area(self):\n",
    "        pass\n",
    "\n",
    "class circle(Shape):\n",
    "    def area(self, radius):\n",
    "        return 3.14 * radius**2\n",
    "\n",
    "class rectangle(Shape):\n",
    "    def area(self, height, width):\n",
    "        return height * width\n",
    "\n",
    "class triangle(Shape):\n",
    "    def area(self, base, height):\n",
    "        return 0.5 * base * height\n",
    "\n",
    "c = circle()\n",
    "print(f\"Area of circle is \",c.area(3))\n",
    "t = triangle()\n",
    "print(f\"Area of triangle is \",t.area(5,10))\n",
    "r = rectangle()\n",
    "print(f\"Area of rectangle is \",r.area(3,7))\n"
   ]
  },
  {
   "cell_type": "code",
   "execution_count": 108,
   "id": "0378b6f0-b3c9-4330-a42d-f1e820935417",
   "metadata": {},
   "outputs": [
    {
     "name": "stdout",
     "output_type": "stream",
     "text": [
      "Account no is  2323\n",
      "Account Balance is  36000\n",
      "Account code is  7852\n"
     ]
    }
   ],
   "source": [
    "# Q3\n",
    "class Account:\n",
    "    def define(self,no,bal,code):\n",
    "        self.__account = no\n",
    "        self.__accountbal = bal\n",
    "        self.__code = code\n",
    "    def detail(self):\n",
    "        print(f\"Account no is \",self.__account)\n",
    "        print(f\"Account Balance is \",self.__accountbal)\n",
    "        print(f\"Account code is \",self.__code)\n",
    "        \n",
    "a1 = Account()\n",
    "a1.define(2323,36000,7852)\n",
    "a1.detail()\n",
    "        "
   ]
  },
  {
   "cell_type": "code",
   "execution_count": 3,
   "id": "90b6b2dd-c42f-44fc-b6ad-aa11d557a666",
   "metadata": {},
   "outputs": [
    {
     "name": "stdout",
     "output_type": "stream",
     "text": [
      "Area of Square: 9\n",
      "Volume of Cube: 27\n"
     ]
    }
   ],
   "source": [
    "from abc import ABC, abstractmethod\n",
    "\n",
    "class Shape(ABC):\n",
    "    @abstractmethod\n",
    "    def area(self):\n",
    "        pass\n",
    "\n",
    "class Rectangle(Shape):\n",
    "    def __init__(self, length, width):\n",
    "        self.length = length\n",
    "        self.width = width\n",
    "\n",
    "    def area(self):\n",
    "        return self.length * self.width\n",
    "\n",
    "class Square(Rectangle):\n",
    "    def __init__(self, side):\n",
    "        super().__init__(side, side)\n",
    "\n",
    "class Cube(Rectangle):\n",
    "    def __init__(self, length, width, height):\n",
    "        super().__init__(length, width)\n",
    "        self.height = height\n",
    "\n",
    "    def volume(self):\n",
    "        return self.length * self.width * self.height\n",
    "\n",
    "square = Square(3)\n",
    "print(\"Area of Square:\", square.area())\n",
    "cube = Cube(3, 3, 3)\n",
    "print(\"Volume of Cube:\", cube.volume())\n"
   ]
  },
  {
   "cell_type": "code",
   "execution_count": null,
   "id": "b344d395-e5f9-46cc-8f06-d50e34a1b03a",
   "metadata": {},
   "outputs": [],
   "source": [
    "#Q5\n",
    "class Student:\n",
    "    def __init__(self, student_id, name):\n",
    "        self.student_id = student_id\n",
    "        self.name = name\n",
    "\n",
    "    def display_student_info(self):\n",
    "        print(f\"Student ID: {self.student_id}\")\n",
    "        print(f\"Name: {self.name}\")\n",
    "\n",
    "class Marks(Student):\n",
    "    def __init__(self, student_id, name, marks_algo, marks_dataScience, marks_calculus):\n",
    "        super().__init__(student_id, name)\n",
    "        self.marks_algo = marks_algo\n",
    "        self.marks_dataScience = marks_dataScience\n",
    "        self.marks_calculus = marks_calculus\n",
    "\n",
    "    def display_marks(self):\n",
    "        print(f\"Marks in Algorithms: {self.marks_algo}\")\n",
    "        print(f\"Marks in Data Science: {self.marks_dataScience}\")\n",
    "        print(f\"Marks in Calculus: {self.marks_calculus}\")\n",
    "\n",
    "class Result(Marks):\n",
    "    def __init__(self, student_id, name, marks_algo, marks_dataScience, marks_calculus):\n",
    "        super().__init__(student_id, name, marks_algo, marks_dataScience, marks_calculus)\n",
    "\n",
    "    def calculate_total_marks(self):\n",
    "        return self.marks_algo + self.marks_dataScience + self.marks_calculus\n",
    "\n",
    "    def calculate_average_marks(self):\n",
    "        total_marks = self.calculate_total_marks()\n",
    "        return total_marks / 3  # 3 are the total number of courses\n",
    "\n",
    "    def display_result(self):\n",
    "        self.display_student_info()\n",
    "        self.display_marks()\n",
    "        total_marks = self.calculate_total_marks()\n",
    "        average_marks = self.calculate_average_marks()\n",
    "        print(f\"Total Marks: {total_marks}\")\n",
    "        print(f\"Average Marks: {average_marks:.2f}\")\n",
    "\n",
    "\n",
    "\n",
    "student_result = Result(\"22k-4079\", \"Partham\", 90, 85, 95)\n",
    "student_result.display_result()\n",
    "\n"
   ]
  },
  {
   "cell_type": "code",
   "execution_count": null,
   "id": "95045f96-7ca6-4a30-9d88-ecb4ab082359",
   "metadata": {},
   "outputs": [],
   "source": []
  }
 ],
 "metadata": {
  "kernelspec": {
   "display_name": "anaconda-panel-2023.05-py310",
   "language": "python",
   "name": "conda-env-anaconda-panel-2023.05-py310-py"
  },
  "language_info": {
   "codemirror_mode": {
    "name": "ipython",
    "version": 3
   },
   "file_extension": ".py",
   "mimetype": "text/x-python",
   "name": "python",
   "nbconvert_exporter": "python",
   "pygments_lexer": "ipython3",
   "version": "3.11.4"
  }
 },
 "nbformat": 4,
 "nbformat_minor": 5
}
