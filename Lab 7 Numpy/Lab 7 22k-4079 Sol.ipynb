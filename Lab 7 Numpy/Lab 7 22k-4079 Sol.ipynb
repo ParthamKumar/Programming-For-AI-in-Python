{
 "cells": [
  {
   "cell_type": "code",
   "execution_count": 1,
   "id": "328049c0-9a46-4768-a989-ac7101fcadf2",
   "metadata": {},
   "outputs": [
    {
     "name": "stdout",
     "output_type": "stream",
     "text": [
      "[22 24 26 28 30 32 34 36 38 40 42 44 46 48]\n"
     ]
    }
   ],
   "source": [
    "#Q1\n",
    "import numpy as np\n",
    "array = np.arange(22,50,2)\n",
    "print(array)"
   ]
  },
  {
   "cell_type": "code",
   "execution_count": 5,
   "id": "3076195e-8921-4c20-8caf-d42c9265eca4",
   "metadata": {},
   "outputs": [
    {
     "name": "stdout",
     "output_type": "stream",
     "text": [
      "[[ 1  3  5]\n",
      " [ 7  9 11]\n",
      " [13 15 17]]\n",
      "1\n",
      "3\n",
      "5\n",
      "\n",
      "7\n",
      "9\n",
      "11\n",
      "\n",
      "13\n",
      "15\n",
      "17\n",
      "\n"
     ]
    }
   ],
   "source": [
    "#Q2\n",
    "import numpy as np\n",
    "array = np.arange(1,19,2).reshape(3,3)\n",
    "print(array)\n",
    "print(\"Using iteration\")\n",
    "for i in array:\n",
    "    for j in i:\n",
    "        print(j)\n",
    "    print()"
   ]
  },
  {
   "cell_type": "code",
   "execution_count": 21,
   "id": "4ff81f7b-75ad-434e-97a3-b36b44027a1b",
   "metadata": {},
   "outputs": [
    {
     "name": "stdout",
     "output_type": "stream",
     "text": [
      "[[ 8 16 24]\n",
      " [32 40 48]\n",
      " [56 64 72]]\n",
      "Identity Matrix is\n",
      "[[1. 0. 0.]\n",
      " [0. 1. 0.]\n",
      " [0. 0. 1.]]\n",
      "Result Matrix\n",
      "[[ 8. 16. 24.]\n",
      " [32. 40. 48.]\n",
      " [56. 64. 72.]]\n"
     ]
    }
   ],
   "source": [
    "#Q3\n",
    "import numpy as np\n",
    "array = np.array([[2,4,6],\n",
    "                 [8,10,12],\n",
    "                 [14,16,18]])\n",
    "multiply = array*4\n",
    "print(multiply)\n",
    "#Creating the identity matrix\n",
    "identity=np.identity(3)\n",
    "print(\"Identity Matrix is\")\n",
    "print(identity)\n",
    "result = np.dot(multiply,identity)\n",
    "print(\"Result Matrix\")\n",
    "print(result)"
   ]
  },
  {
   "cell_type": "code",
   "execution_count": 25,
   "id": "375d229b-7c37-437c-b449-ed4cbd096a8f",
   "metadata": {},
   "outputs": [
    {
     "name": "stdout",
     "output_type": "stream",
     "text": [
      "[('Charles', 155, 10) ('Magnito', 185, 10) ('NoOne', 155, 12)\n",
      " ('Xavier', 165, 12)]\n"
     ]
    }
   ],
   "source": [
    "#Q4\n",
    "import numpy as np\n",
    "data=[('Charles',155,10),\n",
    "      ('Xavier',165,12),\n",
    "      ('Magnito',185,10),\n",
    "      ('NoOne',155,12)]\n",
    "dtypes=[('name','U15'),('height',int),('class',int)]\n",
    "students = np.array(data,dtypes)\n",
    "sort=np.sort(students, order=['class','height'])\n",
    "print(sort)"
   ]
  },
  {
   "cell_type": "code",
   "execution_count": 45,
   "id": "f96d4d21-ba52-4bec-b1ea-96abb629602b",
   "metadata": {},
   "outputs": [
    {
     "name": "stdout",
     "output_type": "stream",
     "text": [
      "[[ 5 10  2  9]\n",
      " [ 9  2 10  2]\n",
      " [ 9 10  2  9]\n",
      " [ 5 10  9  2]]\n",
      "Identity matrix\n",
      "[[1. 0. 0. 0.]\n",
      " [0. 1. 0. 0.]\n",
      " [0. 0. 1. 0.]\n",
      " [0. 0. 0. 1.]]\n",
      "Resultant Matrix is\n",
      "[[ 5. 10.  2.  9.]\n",
      " [ 9.  2. 10.  2.]\n",
      " [ 9. 10.  2.  9.]\n",
      " [ 5. 10.  9.  2.]]\n",
      "Odd Array\n",
      "[[ 1  3  5  7]\n",
      " [ 9 11 13 15]\n",
      " [17 19 21 23]\n",
      " [25 27 29 31]]\n",
      "Final reult is\n",
      "[[ 6. 13.  7. 16.]\n",
      " [18. 13. 23. 17.]\n",
      " [26. 29. 23. 32.]\n",
      " [30. 37. 38. 33.]]\n"
     ]
    }
   ],
   "source": [
    "#Q5\n",
    "random = [2,5,9,10]\n",
    "matrix = np.random.choice(random,size=(4,4))\n",
    "print(matrix)\n",
    "identity=np.identity(4)\n",
    "print(\"Identity matrix\")\n",
    "print(identity)\n",
    "result = np.dot(matrix,identity)\n",
    "print(\"Resultant Matrix is\")\n",
    "print(result)\n",
    "odd= np.arange(1,32,2).reshape(4,4)\n",
    "print('Odd Array')\n",
    "print(odd)\n",
    "final = result+odd\n",
    "print(\"Final reult is\")\n",
    "print(final)"
   ]
  },
  {
   "cell_type": "code",
   "execution_count": null,
   "id": "5c2990b6-966c-4039-8339-242b6bdb81e6",
   "metadata": {},
   "outputs": [],
   "source": []
  }
 ],
 "metadata": {
  "kernelspec": {
   "display_name": "anaconda-panel-2023.05-py310",
   "language": "python",
   "name": "conda-env-anaconda-panel-2023.05-py310-py"
  },
  "language_info": {
   "codemirror_mode": {
    "name": "ipython",
    "version": 3
   },
   "file_extension": ".py",
   "mimetype": "text/x-python",
   "name": "python",
   "nbconvert_exporter": "python",
   "pygments_lexer": "ipython3",
   "version": "3.11.4"
  }
 },
 "nbformat": 4,
 "nbformat_minor": 5
}
